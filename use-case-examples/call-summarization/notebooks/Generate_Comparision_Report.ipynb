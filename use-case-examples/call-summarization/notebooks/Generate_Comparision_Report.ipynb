{
 "cells": [
  {
   "cell_type": "markdown",
   "id": "9304aefb-ffa8-4d9e-9f80-342e978a211d",
   "metadata": {
    "tags": []
   },
   "source": [
    "# Generate Comparison Report"
   ]
  },
  {
   "cell_type": "markdown",
   "id": "c3df5a83",
   "metadata": {},
   "source": [
    "In this notebook, we will compare all eval metrics including cost and latency for the source and target model and generate final report."
   ]
  },
  {
   "cell_type": "markdown",
   "id": "8cd2dbfb",
   "metadata": {},
   "source": [
    "![CompareAndSelect.png](../images/CompareAndSelect.png)"
   ]
  },
  {
   "cell_type": "markdown",
   "id": "dc32fb00-0b2b-44ad-9974-84929200b303",
   "metadata": {},
   "source": [
    "### Parameters"
   ]
  },
  {
   "cell_type": "markdown",
   "id": "5a634ab2",
   "metadata": {},
   "source": [
    "Define model ID to use"
   ]
  },
  {
   "cell_type": "code",
   "execution_count": 3,
   "id": "6bb9f5b9-c3a5-484c-8fa7-f515172761f0",
   "metadata": {},
   "outputs": [],
   "source": [
    "import sys\n",
    "\n",
    "sys.path.append(\"../src/\")\n",
    "from config import *\n",
    "\n",
    "src_model = \"openai\"\n",
    "src_prompt = \"raw\"\n",
    "\n",
    "target_model = \"anthropic\"\n",
    "target_prompt = \"optimized\"\n",
    "# target_prompt=\"raw\""
   ]
  },
  {
   "cell_type": "markdown",
   "id": "1f02d310-901c-4c20-b14e-9016e5462e3a",
   "metadata": {},
   "source": [
    "### Libraries"
   ]
  },
  {
   "cell_type": "markdown",
   "id": "40e22729",
   "metadata": {},
   "source": [
    "Import basic libraries"
   ]
  },
  {
   "cell_type": "code",
   "execution_count": 5,
   "id": "404ba94b-8627-427d-9d9f-496f23b79ef4",
   "metadata": {
    "tags": []
   },
   "outputs": [],
   "source": [
    "from pricing import *\n",
    "from config import *\n",
    "import pandas as pd"
   ]
  },
  {
   "cell_type": "code",
   "execution_count": 6,
   "id": "fd60c5dd-91e6-4e06-8159-fb8d3fa46ac8",
   "metadata": {
    "tags": []
   },
   "outputs": [],
   "source": [
    "def get_report(model, prompt, data):\n",
    "    rec = {}\n",
    "    rec[\"model\"] = model\n",
    "    rec[\"prompt\"] = prompt\n",
    "    rec[\"alignment (mean)\"] = data.loc[:, \"alignment\"].mean()\n",
    "    rec[\"coverage (mean)\"] = data.loc[:, \"coverage\"].mean()\n",
    "    rec[\"alignment (median)\"] = data.loc[:, \"alignment\"].median()\n",
    "    rec[\"coverage (median)\"] = data.loc[:, \"coverage\"].median()\n",
    "    rec[\"input_tokens\"] = data.loc[:, \"metric_summary_input_tokens\"].sum()\n",
    "    rec[\"output_tokens\"] = data.loc[:, \"metric_summary_output_tokens\"].sum()\n",
    "    rec[\"output_tokens\"] = data.loc[:, \"metric_summary_output_tokens\"].sum()\n",
    "\n",
    "    model_id = OPENAI_MODEL_ID\n",
    "    if model == \"mistral\":\n",
    "        model_id = MISTRAL_MODEL_ID\n",
    "    elif model == \"anthropic\":\n",
    "        model_id = CLAUDE_MODEL_ID\n",
    "    elif model == \"meta\":\n",
    "        model_id = META_MODEL_ID\n",
    "\n",
    "    costs = calculate_input_price(\n",
    "        rec[\"input_tokens\"], model_id\n",
    "    ) + calculate_input_price(rec[\"output_tokens\"], model_id)\n",
    "    rec[\"costs (USD)\"] = costs\n",
    "\n",
    "    rec[\"latency (mean)\"] = data.loc[:, \"metric_summary_latency\"].mean()\n",
    "    rec[\"latency (median)\"] = data.loc[:, \"metric_summary_latency\"].median()\n",
    "\n",
    "    df = pd.DataFrame([rec])\n",
    "    return df"
   ]
  },
  {
   "cell_type": "markdown",
   "id": "7a68efab-1dcc-47be-9059-b8e608fd4360",
   "metadata": {
    "tags": []
   },
   "source": [
    "### Specify source evaluation results"
   ]
  },
  {
   "cell_type": "code",
   "execution_count": 7,
   "id": "6a82bb22-97b3-49fc-97a2-0ccb23d90b6e",
   "metadata": {
    "tags": []
   },
   "outputs": [
    {
     "data": {
      "text/html": [
       "<div>\n",
       "<style scoped>\n",
       "    .dataframe tbody tr th:only-of-type {\n",
       "        vertical-align: middle;\n",
       "    }\n",
       "\n",
       "    .dataframe tbody tr th {\n",
       "        vertical-align: top;\n",
       "    }\n",
       "\n",
       "    .dataframe thead th {\n",
       "        text-align: right;\n",
       "    }\n",
       "</style>\n",
       "<table border=\"1\" class=\"dataframe\">\n",
       "  <thead>\n",
       "    <tr style=\"text-align: right;\">\n",
       "      <th></th>\n",
       "      <th>transcripts</th>\n",
       "      <th>summary</th>\n",
       "      <th>alignment</th>\n",
       "      <th>coverage</th>\n",
       "      <th>overal_score</th>\n",
       "      <th>metric_summary_input_tokens</th>\n",
       "      <th>metric_summary_output_tokens</th>\n",
       "      <th>metric_summary_latency</th>\n",
       "    </tr>\n",
       "  </thead>\n",
       "  <tbody>\n",
       "    <tr>\n",
       "      <th>0</th>\n",
       "      <td>[\"\\nAgent: Good morning, thank you for calling...</td>\n",
       "      <td>Sarah, the customer, called SB Bank to inquire...</td>\n",
       "      <td>0.500000</td>\n",
       "      <td>0.8</td>\n",
       "      <td>0.500000</td>\n",
       "      <td>767</td>\n",
       "      <td>150</td>\n",
       "      <td>4.529721</td>\n",
       "    </tr>\n",
       "    <tr>\n",
       "      <th>1</th>\n",
       "      <td>[\"Agent: Good morning, thank you for calling S...</td>\n",
       "      <td>Sarah Thompson, a customer who applied for a c...</td>\n",
       "      <td>1.000000</td>\n",
       "      <td>0.5</td>\n",
       "      <td>0.500000</td>\n",
       "      <td>635</td>\n",
       "      <td>184</td>\n",
       "      <td>11.220361</td>\n",
       "    </tr>\n",
       "    <tr>\n",
       "      <th>2</th>\n",
       "      <td>[\"\\nAgent: Good morning, thank you for calling...</td>\n",
       "      <td>The customer, Sarah, was affected by recent fl...</td>\n",
       "      <td>1.000000</td>\n",
       "      <td>1.0</td>\n",
       "      <td>1.000000</td>\n",
       "      <td>676</td>\n",
       "      <td>124</td>\n",
       "      <td>7.740885</td>\n",
       "    </tr>\n",
       "    <tr>\n",
       "      <th>3</th>\n",
       "      <td>[\"\\nAgent: Good morning, thank you for calling...</td>\n",
       "      <td>The customer, Sarah, was incorrectly charged a...</td>\n",
       "      <td>0.666667</td>\n",
       "      <td>1.0</td>\n",
       "      <td>0.666667</td>\n",
       "      <td>680</td>\n",
       "      <td>146</td>\n",
       "      <td>8.956748</td>\n",
       "    </tr>\n",
       "    <tr>\n",
       "      <th>4</th>\n",
       "      <td>[\"\\nAgent: Good morning, thank you for calling...</td>\n",
       "      <td>Sarah Thompson reported a fraudulent transacti...</td>\n",
       "      <td>0.750000</td>\n",
       "      <td>1.0</td>\n",
       "      <td>0.750000</td>\n",
       "      <td>850</td>\n",
       "      <td>160</td>\n",
       "      <td>4.660645</td>\n",
       "    </tr>\n",
       "  </tbody>\n",
       "</table>\n",
       "</div>"
      ],
      "text/plain": [
       "                                         transcripts  \\\n",
       "0  [\"\\nAgent: Good morning, thank you for calling...   \n",
       "1  [\"Agent: Good morning, thank you for calling S...   \n",
       "2  [\"\\nAgent: Good morning, thank you for calling...   \n",
       "3  [\"\\nAgent: Good morning, thank you for calling...   \n",
       "4  [\"\\nAgent: Good morning, thank you for calling...   \n",
       "\n",
       "                                             summary  alignment  coverage  \\\n",
       "0  Sarah, the customer, called SB Bank to inquire...   0.500000       0.8   \n",
       "1  Sarah Thompson, a customer who applied for a c...   1.000000       0.5   \n",
       "2  The customer, Sarah, was affected by recent fl...   1.000000       1.0   \n",
       "3  The customer, Sarah, was incorrectly charged a...   0.666667       1.0   \n",
       "4  Sarah Thompson reported a fraudulent transacti...   0.750000       1.0   \n",
       "\n",
       "   overal_score  metric_summary_input_tokens  metric_summary_output_tokens  \\\n",
       "0      0.500000                          767                           150   \n",
       "1      0.500000                          635                           184   \n",
       "2      1.000000                          676                           124   \n",
       "3      0.666667                          680                           146   \n",
       "4      0.750000                          850                           160   \n",
       "\n",
       "   metric_summary_latency  \n",
       "0                4.529721  \n",
       "1               11.220361  \n",
       "2                7.740885  \n",
       "3                8.956748  \n",
       "4                4.660645  "
      ]
     },
     "execution_count": 7,
     "metadata": {},
     "output_type": "execute_result"
    }
   ],
   "source": [
    "src_eval = src_prompt + \"_\" + src_model\n",
    "\n",
    "df = pd.read_csv(\n",
    "    \"../outputs/call_summarization_eval_\" + src_eval + \".csv\", encoding=\"UTF-8\"\n",
    ")\n",
    "df.head()"
   ]
  },
  {
   "cell_type": "code",
   "execution_count": 8,
   "id": "ee5cd3bf-7513-4827-bacf-abe15007d913",
   "metadata": {
    "tags": []
   },
   "outputs": [
    {
     "data": {
      "text/html": [
       "<div>\n",
       "<style scoped>\n",
       "    .dataframe tbody tr th:only-of-type {\n",
       "        vertical-align: middle;\n",
       "    }\n",
       "\n",
       "    .dataframe tbody tr th {\n",
       "        vertical-align: top;\n",
       "    }\n",
       "\n",
       "    .dataframe thead th {\n",
       "        text-align: right;\n",
       "    }\n",
       "</style>\n",
       "<table border=\"1\" class=\"dataframe\">\n",
       "  <thead>\n",
       "    <tr style=\"text-align: right;\">\n",
       "      <th></th>\n",
       "      <th>model</th>\n",
       "      <th>prompt</th>\n",
       "      <th>alignment (mean)</th>\n",
       "      <th>coverage (mean)</th>\n",
       "      <th>alignment (median)</th>\n",
       "      <th>coverage (median)</th>\n",
       "      <th>input_tokens</th>\n",
       "      <th>output_tokens</th>\n",
       "      <th>costs (USD)</th>\n",
       "      <th>latency (mean)</th>\n",
       "      <th>latency (median)</th>\n",
       "    </tr>\n",
       "  </thead>\n",
       "  <tbody>\n",
       "    <tr>\n",
       "      <th>0</th>\n",
       "      <td>mistral</td>\n",
       "      <td>raw</td>\n",
       "      <td>0.783333</td>\n",
       "      <td>0.86</td>\n",
       "      <td>0.75</td>\n",
       "      <td>1.0</td>\n",
       "      <td>3608</td>\n",
       "      <td>764</td>\n",
       "      <td>0.034976</td>\n",
       "      <td>7.421672</td>\n",
       "      <td>7.740885</td>\n",
       "    </tr>\n",
       "  </tbody>\n",
       "</table>\n",
       "</div>"
      ],
      "text/plain": [
       "     model prompt  alignment (mean)  coverage (mean)  alignment (median)  \\\n",
       "0  mistral    raw          0.783333             0.86                0.75   \n",
       "\n",
       "   coverage (median)  input_tokens  output_tokens  costs (USD)  \\\n",
       "0                1.0          3608            764     0.034976   \n",
       "\n",
       "   latency (mean)  latency (median)  \n",
       "0        7.421672          7.740885  "
      ]
     },
     "execution_count": 8,
     "metadata": {},
     "output_type": "execute_result"
    }
   ],
   "source": [
    "src_report = get_report(src_model, src_prompt, df)\n",
    "src_report"
   ]
  },
  {
   "cell_type": "markdown",
   "id": "c119d995-6e2c-47cb-a3a9-6384b6d4212d",
   "metadata": {},
   "source": [
    "### Specify target evaluation results"
   ]
  },
  {
   "cell_type": "code",
   "execution_count": 10,
   "id": "06cf4be3-57b4-40a0-8218-1fd45a57ce92",
   "metadata": {},
   "outputs": [
    {
     "data": {
      "text/html": [
       "<div>\n",
       "<style scoped>\n",
       "    .dataframe tbody tr th:only-of-type {\n",
       "        vertical-align: middle;\n",
       "    }\n",
       "\n",
       "    .dataframe tbody tr th {\n",
       "        vertical-align: top;\n",
       "    }\n",
       "\n",
       "    .dataframe thead th {\n",
       "        text-align: right;\n",
       "    }\n",
       "</style>\n",
       "<table border=\"1\" class=\"dataframe\">\n",
       "  <thead>\n",
       "    <tr style=\"text-align: right;\">\n",
       "      <th></th>\n",
       "      <th>transcripts</th>\n",
       "      <th>summary</th>\n",
       "      <th>alignment</th>\n",
       "      <th>coverage</th>\n",
       "      <th>overal_score</th>\n",
       "      <th>metric_summary_input_tokens</th>\n",
       "      <th>metric_summary_output_tokens</th>\n",
       "      <th>metric_summary_latency</th>\n",
       "    </tr>\n",
       "  </thead>\n",
       "  <tbody>\n",
       "    <tr>\n",
       "      <th>0</th>\n",
       "      <td>\\nAgent: Good morning, thank you for calling S...</td>\n",
       "      <td>The transcript summarizes a conversation betwe...</td>\n",
       "      <td>1.000000</td>\n",
       "      <td>1.0</td>\n",
       "      <td>1.000000</td>\n",
       "      <td>816</td>\n",
       "      <td>256</td>\n",
       "      <td>2.131492</td>\n",
       "    </tr>\n",
       "    <tr>\n",
       "      <th>1</th>\n",
       "      <td>Agent: Good morning, thank you for calling SB ...</td>\n",
       "      <td>The summary of the transcript is that the cust...</td>\n",
       "      <td>1.000000</td>\n",
       "      <td>0.5</td>\n",
       "      <td>0.500000</td>\n",
       "      <td>678</td>\n",
       "      <td>256</td>\n",
       "      <td>2.660620</td>\n",
       "    </tr>\n",
       "    <tr>\n",
       "      <th>2</th>\n",
       "      <td>\\nAgent: Good morning, thank you for calling S...</td>\n",
       "      <td>The transcript summarizes a call between a cus...</td>\n",
       "      <td>0.666667</td>\n",
       "      <td>1.0</td>\n",
       "      <td>0.666667</td>\n",
       "      <td>701</td>\n",
       "      <td>256</td>\n",
       "      <td>2.843184</td>\n",
       "    </tr>\n",
       "    <tr>\n",
       "      <th>3</th>\n",
       "      <td>\\nAgent: Good morning, thank you for calling S...</td>\n",
       "      <td>The summary of the transcript is that the cust...</td>\n",
       "      <td>1.000000</td>\n",
       "      <td>1.0</td>\n",
       "      <td>1.000000</td>\n",
       "      <td>733</td>\n",
       "      <td>256</td>\n",
       "      <td>2.811654</td>\n",
       "    </tr>\n",
       "    <tr>\n",
       "      <th>4</th>\n",
       "      <td>\\nAgent: Good morning, thank you for calling S...</td>\n",
       "      <td>The summary of the transcript is that the cust...</td>\n",
       "      <td>0.500000</td>\n",
       "      <td>1.0</td>\n",
       "      <td>0.500000</td>\n",
       "      <td>880</td>\n",
       "      <td>238</td>\n",
       "      <td>2.339200</td>\n",
       "    </tr>\n",
       "  </tbody>\n",
       "</table>\n",
       "</div>"
      ],
      "text/plain": [
       "                                         transcripts  \\\n",
       "0  \\nAgent: Good morning, thank you for calling S...   \n",
       "1  Agent: Good morning, thank you for calling SB ...   \n",
       "2  \\nAgent: Good morning, thank you for calling S...   \n",
       "3  \\nAgent: Good morning, thank you for calling S...   \n",
       "4  \\nAgent: Good morning, thank you for calling S...   \n",
       "\n",
       "                                             summary  alignment  coverage  \\\n",
       "0  The transcript summarizes a conversation betwe...   1.000000       1.0   \n",
       "1  The summary of the transcript is that the cust...   1.000000       0.5   \n",
       "2  The transcript summarizes a call between a cus...   0.666667       1.0   \n",
       "3  The summary of the transcript is that the cust...   1.000000       1.0   \n",
       "4  The summary of the transcript is that the cust...   0.500000       1.0   \n",
       "\n",
       "   overal_score  metric_summary_input_tokens  metric_summary_output_tokens  \\\n",
       "0      1.000000                          816                           256   \n",
       "1      0.500000                          678                           256   \n",
       "2      0.666667                          701                           256   \n",
       "3      1.000000                          733                           256   \n",
       "4      0.500000                          880                           238   \n",
       "\n",
       "   metric_summary_latency  \n",
       "0                2.131492  \n",
       "1                2.660620  \n",
       "2                2.843184  \n",
       "3                2.811654  \n",
       "4                2.339200  "
      ]
     },
     "execution_count": 10,
     "metadata": {},
     "output_type": "execute_result"
    }
   ],
   "source": [
    "target_eval = target_prompt + \"_\" + target_model\n",
    "\n",
    "df = pd.read_csv(\n",
    "    \"../outputs/call_summarization_eval_\" + target_eval + \".csv\", encoding=\"UTF-8\"\n",
    ")\n",
    "df.head()"
   ]
  },
  {
   "cell_type": "code",
   "execution_count": 12,
   "id": "5394029f-78cd-4d43-9513-acd68eb1d9d3",
   "metadata": {
    "tags": []
   },
   "outputs": [
    {
     "data": {
      "text/html": [
       "<div>\n",
       "<style scoped>\n",
       "    .dataframe tbody tr th:only-of-type {\n",
       "        vertical-align: middle;\n",
       "    }\n",
       "\n",
       "    .dataframe tbody tr th {\n",
       "        vertical-align: top;\n",
       "    }\n",
       "\n",
       "    .dataframe thead th {\n",
       "        text-align: right;\n",
       "    }\n",
       "</style>\n",
       "<table border=\"1\" class=\"dataframe\">\n",
       "  <thead>\n",
       "    <tr style=\"text-align: right;\">\n",
       "      <th></th>\n",
       "      <th>model</th>\n",
       "      <th>prompt</th>\n",
       "      <th>alignment (mean)</th>\n",
       "      <th>coverage (mean)</th>\n",
       "      <th>alignment (median)</th>\n",
       "      <th>coverage (median)</th>\n",
       "      <th>input_tokens</th>\n",
       "      <th>output_tokens</th>\n",
       "      <th>costs (USD)</th>\n",
       "      <th>latency (mean)</th>\n",
       "      <th>latency (median)</th>\n",
       "    </tr>\n",
       "  </thead>\n",
       "  <tbody>\n",
       "    <tr>\n",
       "      <th>0</th>\n",
       "      <td>anthropic</td>\n",
       "      <td>optimized</td>\n",
       "      <td>0.833333</td>\n",
       "      <td>0.9</td>\n",
       "      <td>1.0</td>\n",
       "      <td>1.0</td>\n",
       "      <td>3808</td>\n",
       "      <td>1262</td>\n",
       "      <td>0.01521</td>\n",
       "      <td>2.55723</td>\n",
       "      <td>2.66062</td>\n",
       "    </tr>\n",
       "  </tbody>\n",
       "</table>\n",
       "</div>"
      ],
      "text/plain": [
       "       model     prompt  alignment (mean)  coverage (mean)  \\\n",
       "0  anthropic  optimized          0.833333              0.9   \n",
       "\n",
       "   alignment (median)  coverage (median)  input_tokens  output_tokens  \\\n",
       "0                 1.0                1.0          3808           1262   \n",
       "\n",
       "   costs (USD)  latency (mean)  latency (median)  \n",
       "0      0.01521         2.55723           2.66062  "
      ]
     },
     "execution_count": 12,
     "metadata": {},
     "output_type": "execute_result"
    }
   ],
   "source": [
    "dest_report = get_report(target_model, target_prompt, df)\n",
    "dest_report"
   ]
  },
  {
   "cell_type": "code",
   "execution_count": 13,
   "id": "7c37749e-4001-423c-a644-8283a7121ea5",
   "metadata": {
    "tags": []
   },
   "outputs": [
    {
     "data": {
      "text/html": [
       "<div>\n",
       "<style scoped>\n",
       "    .dataframe tbody tr th:only-of-type {\n",
       "        vertical-align: middle;\n",
       "    }\n",
       "\n",
       "    .dataframe tbody tr th {\n",
       "        vertical-align: top;\n",
       "    }\n",
       "\n",
       "    .dataframe thead th {\n",
       "        text-align: right;\n",
       "    }\n",
       "</style>\n",
       "<table border=\"1\" class=\"dataframe\">\n",
       "  <thead>\n",
       "    <tr style=\"text-align: right;\">\n",
       "      <th></th>\n",
       "      <th>model</th>\n",
       "      <th>prompt</th>\n",
       "      <th>alignment (mean)</th>\n",
       "      <th>coverage (mean)</th>\n",
       "      <th>alignment (median)</th>\n",
       "      <th>coverage (median)</th>\n",
       "      <th>input_tokens</th>\n",
       "      <th>output_tokens</th>\n",
       "      <th>costs (USD)</th>\n",
       "      <th>latency (mean)</th>\n",
       "      <th>latency (median)</th>\n",
       "    </tr>\n",
       "  </thead>\n",
       "  <tbody>\n",
       "    <tr>\n",
       "      <th>0</th>\n",
       "      <td>mistral</td>\n",
       "      <td>raw</td>\n",
       "      <td>0.783333</td>\n",
       "      <td>0.86</td>\n",
       "      <td>0.75</td>\n",
       "      <td>1.0</td>\n",
       "      <td>3608</td>\n",
       "      <td>764</td>\n",
       "      <td>0.034976</td>\n",
       "      <td>7.421672</td>\n",
       "      <td>7.740885</td>\n",
       "    </tr>\n",
       "    <tr>\n",
       "      <th>0</th>\n",
       "      <td>anthropic</td>\n",
       "      <td>optimized</td>\n",
       "      <td>0.833333</td>\n",
       "      <td>0.90</td>\n",
       "      <td>1.00</td>\n",
       "      <td>1.0</td>\n",
       "      <td>3808</td>\n",
       "      <td>1262</td>\n",
       "      <td>0.015210</td>\n",
       "      <td>2.557230</td>\n",
       "      <td>2.660620</td>\n",
       "    </tr>\n",
       "  </tbody>\n",
       "</table>\n",
       "</div>"
      ],
      "text/plain": [
       "       model     prompt  alignment (mean)  coverage (mean)  \\\n",
       "0    mistral        raw          0.783333             0.86   \n",
       "0  anthropic  optimized          0.833333             0.90   \n",
       "\n",
       "   alignment (median)  coverage (median)  input_tokens  output_tokens  \\\n",
       "0                0.75                1.0          3608            764   \n",
       "0                1.00                1.0          3808           1262   \n",
       "\n",
       "   costs (USD)  latency (mean)  latency (median)  \n",
       "0     0.034976        7.421672          7.740885  \n",
       "0     0.015210        2.557230          2.660620  "
      ]
     },
     "execution_count": 13,
     "metadata": {},
     "output_type": "execute_result"
    }
   ],
   "source": [
    "final_report = pd.concat([src_report, dest_report])\n",
    "final_report"
   ]
  },
  {
   "cell_type": "markdown",
   "id": "9b9f9e3e-f854-4004-bace-7bfd1dac3572",
   "metadata": {
    "tags": []
   },
   "source": [
    "### Compare on coverage/alignment, latency and cost. Based on these factors, decide to migrate or not."
   ]
  }
 ],
 "metadata": {
  "kernelspec": {
   "display_name": "Python 3 (ipykernel)",
   "language": "python",
   "name": "python3"
  },
  "language_info": {
   "codemirror_mode": {
    "name": "ipython",
    "version": 3
   },
   "file_extension": ".py",
   "mimetype": "text/x-python",
   "name": "python",
   "nbconvert_exporter": "python",
   "pygments_lexer": "ipython3",
   "version": "3.10.14"
  }
 },
 "nbformat": 4,
 "nbformat_minor": 5
}
