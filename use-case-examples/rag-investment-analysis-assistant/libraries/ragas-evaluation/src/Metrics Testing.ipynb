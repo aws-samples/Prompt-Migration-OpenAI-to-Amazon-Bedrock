{
 "cells": [
  {
   "cell_type": "code",
   "execution_count": 1,
   "id": "2a01f355",
   "metadata": {},
   "outputs": [],
   "source": [
    "!pip install -e ../. --quiet"
   ]
  },
  {
   "cell_type": "code",
   "execution_count": 5,
   "id": "380b9b0a",
   "metadata": {},
   "outputs": [
    {
     "name": "stdout",
     "output_type": "stream",
     "text": [
      "Collecting llama-index==0.9.6.post1\n",
      "  Downloading llama_index-0.9.6.post1-py3-none-any.whl.metadata (8.2 kB)\n",
      "Requirement already satisfied: SQLAlchemy>=1.4.49 in /home/ec2-user/anaconda3/envs/python3/lib/python3.10/site-packages (from SQLAlchemy[asyncio]>=1.4.49->llama-index==0.9.6.post1) (2.0.22)\n",
      "Requirement already satisfied: aiohttp<4.0.0,>=3.8.6 in /home/ec2-user/anaconda3/envs/python3/lib/python3.10/site-packages (from llama-index==0.9.6.post1) (3.8.6)\n",
      "Collecting aiostream<0.6.0,>=0.5.2 (from llama-index==0.9.6.post1)\n",
      "  Downloading aiostream-0.5.2-py3-none-any.whl.metadata (9.9 kB)\n",
      "Requirement already satisfied: beautifulsoup4<5.0.0,>=4.12.2 in /home/ec2-user/anaconda3/envs/python3/lib/python3.10/site-packages (from llama-index==0.9.6.post1) (4.12.2)\n",
      "Requirement already satisfied: dataclasses-json in /home/ec2-user/anaconda3/envs/python3/lib/python3.10/site-packages (from llama-index==0.9.6.post1) (0.6.3)\n",
      "Requirement already satisfied: deprecated>=1.2.9.3 in /home/ec2-user/anaconda3/envs/python3/lib/python3.10/site-packages (from llama-index==0.9.6.post1) (1.2.14)\n",
      "Requirement already satisfied: fsspec>=2023.5.0 in /home/ec2-user/anaconda3/envs/python3/lib/python3.10/site-packages (from llama-index==0.9.6.post1) (2023.10.0)\n",
      "Requirement already satisfied: httpx in /home/ec2-user/anaconda3/envs/python3/lib/python3.10/site-packages (from llama-index==0.9.6.post1) (0.25.2)\n",
      "Requirement already satisfied: nest-asyncio<2.0.0,>=1.5.8 in /home/ec2-user/anaconda3/envs/python3/lib/python3.10/site-packages (from llama-index==0.9.6.post1) (1.5.8)\n",
      "Requirement already satisfied: nltk<4.0.0,>=3.8.1 in /home/ec2-user/anaconda3/envs/python3/lib/python3.10/site-packages (from llama-index==0.9.6.post1) (3.8.1)\n",
      "Requirement already satisfied: numpy in /home/ec2-user/anaconda3/envs/python3/lib/python3.10/site-packages (from llama-index==0.9.6.post1) (1.22.4)\n",
      "Requirement already satisfied: openai>=1.1.0 in /home/ec2-user/anaconda3/envs/python3/lib/python3.10/site-packages (from llama-index==0.9.6.post1) (1.4.0)\n",
      "Requirement already satisfied: pandas in /home/ec2-user/anaconda3/envs/python3/lib/python3.10/site-packages (from llama-index==0.9.6.post1) (2.1.1)\n",
      "Requirement already satisfied: tenacity<9.0.0,>=8.2.0 in /home/ec2-user/anaconda3/envs/python3/lib/python3.10/site-packages (from llama-index==0.9.6.post1) (8.2.3)\n",
      "Requirement already satisfied: tiktoken>=0.3.3 in /home/ec2-user/anaconda3/envs/python3/lib/python3.10/site-packages (from llama-index==0.9.6.post1) (0.5.2)\n",
      "Requirement already satisfied: typing-extensions>=4.5.0 in /home/ec2-user/anaconda3/envs/python3/lib/python3.10/site-packages (from llama-index==0.9.6.post1) (4.8.0)\n",
      "Requirement already satisfied: typing-inspect>=0.8.0 in /home/ec2-user/anaconda3/envs/python3/lib/python3.10/site-packages (from llama-index==0.9.6.post1) (0.9.0)\n",
      "Requirement already satisfied: urllib3<2 in /home/ec2-user/anaconda3/envs/python3/lib/python3.10/site-packages (from llama-index==0.9.6.post1) (1.26.18)\n",
      "Requirement already satisfied: attrs>=17.3.0 in /home/ec2-user/anaconda3/envs/python3/lib/python3.10/site-packages (from aiohttp<4.0.0,>=3.8.6->llama-index==0.9.6.post1) (23.1.0)\n",
      "Requirement already satisfied: charset-normalizer<4.0,>=2.0 in /home/ec2-user/anaconda3/envs/python3/lib/python3.10/site-packages (from aiohttp<4.0.0,>=3.8.6->llama-index==0.9.6.post1) (3.3.1)\n",
      "Requirement already satisfied: multidict<7.0,>=4.5 in /home/ec2-user/anaconda3/envs/python3/lib/python3.10/site-packages (from aiohttp<4.0.0,>=3.8.6->llama-index==0.9.6.post1) (6.0.4)\n",
      "Requirement already satisfied: async-timeout<5.0,>=4.0.0a3 in /home/ec2-user/anaconda3/envs/python3/lib/python3.10/site-packages (from aiohttp<4.0.0,>=3.8.6->llama-index==0.9.6.post1) (4.0.3)\n",
      "Requirement already satisfied: yarl<2.0,>=1.0 in /home/ec2-user/anaconda3/envs/python3/lib/python3.10/site-packages (from aiohttp<4.0.0,>=3.8.6->llama-index==0.9.6.post1) (1.9.2)\n",
      "Requirement already satisfied: frozenlist>=1.1.1 in /home/ec2-user/anaconda3/envs/python3/lib/python3.10/site-packages (from aiohttp<4.0.0,>=3.8.6->llama-index==0.9.6.post1) (1.4.0)\n",
      "Requirement already satisfied: aiosignal>=1.1.2 in /home/ec2-user/anaconda3/envs/python3/lib/python3.10/site-packages (from aiohttp<4.0.0,>=3.8.6->llama-index==0.9.6.post1) (1.3.1)\n",
      "Requirement already satisfied: soupsieve>1.2 in /home/ec2-user/anaconda3/envs/python3/lib/python3.10/site-packages (from beautifulsoup4<5.0.0,>=4.12.2->llama-index==0.9.6.post1) (2.5)\n",
      "Requirement already satisfied: wrapt<2,>=1.10 in /home/ec2-user/anaconda3/envs/python3/lib/python3.10/site-packages (from deprecated>=1.2.9.3->llama-index==0.9.6.post1) (1.15.0)\n",
      "Requirement already satisfied: click in /home/ec2-user/anaconda3/envs/python3/lib/python3.10/site-packages (from nltk<4.0.0,>=3.8.1->llama-index==0.9.6.post1) (8.1.7)\n",
      "Requirement already satisfied: joblib in /home/ec2-user/anaconda3/envs/python3/lib/python3.10/site-packages (from nltk<4.0.0,>=3.8.1->llama-index==0.9.6.post1) (1.3.2)\n",
      "Requirement already satisfied: regex>=2021.8.3 in /home/ec2-user/anaconda3/envs/python3/lib/python3.10/site-packages (from nltk<4.0.0,>=3.8.1->llama-index==0.9.6.post1) (2023.10.3)\n",
      "Requirement already satisfied: tqdm in /home/ec2-user/anaconda3/envs/python3/lib/python3.10/site-packages (from nltk<4.0.0,>=3.8.1->llama-index==0.9.6.post1) (4.66.1)\n",
      "Requirement already satisfied: anyio<5,>=3.5.0 in /home/ec2-user/anaconda3/envs/python3/lib/python3.10/site-packages (from openai>=1.1.0->llama-index==0.9.6.post1) (4.0.0)\n",
      "Requirement already satisfied: distro<2,>=1.7.0 in /home/ec2-user/anaconda3/envs/python3/lib/python3.10/site-packages (from openai>=1.1.0->llama-index==0.9.6.post1) (1.8.0)\n",
      "Requirement already satisfied: pydantic<3,>=1.9.0 in /home/ec2-user/anaconda3/envs/python3/lib/python3.10/site-packages (from openai>=1.1.0->llama-index==0.9.6.post1) (1.10.13)\n",
      "Requirement already satisfied: sniffio in /home/ec2-user/anaconda3/envs/python3/lib/python3.10/site-packages (from openai>=1.1.0->llama-index==0.9.6.post1) (1.3.0)\n",
      "Requirement already satisfied: certifi in /home/ec2-user/anaconda3/envs/python3/lib/python3.10/site-packages (from httpx->llama-index==0.9.6.post1) (2023.7.22)\n",
      "Requirement already satisfied: httpcore==1.* in /home/ec2-user/anaconda3/envs/python3/lib/python3.10/site-packages (from httpx->llama-index==0.9.6.post1) (1.0.2)\n",
      "Requirement already satisfied: idna in /home/ec2-user/anaconda3/envs/python3/lib/python3.10/site-packages (from httpx->llama-index==0.9.6.post1) (3.4)\n",
      "Requirement already satisfied: h11<0.15,>=0.13 in /home/ec2-user/anaconda3/envs/python3/lib/python3.10/site-packages (from httpcore==1.*->httpx->llama-index==0.9.6.post1) (0.14.0)\n",
      "Requirement already satisfied: greenlet!=0.4.17 in /home/ec2-user/anaconda3/envs/python3/lib/python3.10/site-packages (from SQLAlchemy>=1.4.49->SQLAlchemy[asyncio]>=1.4.49->llama-index==0.9.6.post1) (3.0.1)\n",
      "Requirement already satisfied: requests>=2.26.0 in /home/ec2-user/anaconda3/envs/python3/lib/python3.10/site-packages (from tiktoken>=0.3.3->llama-index==0.9.6.post1) (2.31.0)\n",
      "Requirement already satisfied: mypy-extensions>=0.3.0 in /home/ec2-user/anaconda3/envs/python3/lib/python3.10/site-packages (from typing-inspect>=0.8.0->llama-index==0.9.6.post1) (1.0.0)\n",
      "Requirement already satisfied: marshmallow<4.0.0,>=3.18.0 in /home/ec2-user/anaconda3/envs/python3/lib/python3.10/site-packages (from dataclasses-json->llama-index==0.9.6.post1) (3.20.1)\n",
      "Requirement already satisfied: python-dateutil>=2.8.2 in /home/ec2-user/anaconda3/envs/python3/lib/python3.10/site-packages (from pandas->llama-index==0.9.6.post1) (2.8.2)\n",
      "Requirement already satisfied: pytz>=2020.1 in /home/ec2-user/anaconda3/envs/python3/lib/python3.10/site-packages (from pandas->llama-index==0.9.6.post1) (2023.3.post1)\n",
      "Requirement already satisfied: tzdata>=2022.1 in /home/ec2-user/anaconda3/envs/python3/lib/python3.10/site-packages (from pandas->llama-index==0.9.6.post1) (2023.3)\n",
      "Requirement already satisfied: exceptiongroup>=1.0.2 in /home/ec2-user/anaconda3/envs/python3/lib/python3.10/site-packages (from anyio<5,>=3.5.0->openai>=1.1.0->llama-index==0.9.6.post1) (1.1.3)\n",
      "Requirement already satisfied: packaging>=17.0 in /home/ec2-user/anaconda3/envs/python3/lib/python3.10/site-packages (from marshmallow<4.0.0,>=3.18.0->dataclasses-json->llama-index==0.9.6.post1) (23.2)\n",
      "Requirement already satisfied: six>=1.5 in /home/ec2-user/anaconda3/envs/python3/lib/python3.10/site-packages (from python-dateutil>=2.8.2->pandas->llama-index==0.9.6.post1) (1.16.0)\n"
     ]
    },
    {
     "name": "stdout",
     "output_type": "stream",
     "text": [
      "Downloading llama_index-0.9.6.post1-py3-none-any.whl (896 kB)\n",
      "\u001b[2K   \u001b[90m━━━━━━━━━━━━━━━━━━━━━━━━━━━━━━━━━━━━━━━━\u001b[0m \u001b[32m896.4/896.4 kB\u001b[0m \u001b[31m41.9 MB/s\u001b[0m eta \u001b[36m0:00:00\u001b[0m\n",
      "\u001b[?25hDownloading aiostream-0.5.2-py3-none-any.whl (39 kB)\n",
      "Installing collected packages: aiostream, llama-index\n",
      "  Attempting uninstall: llama-index\n",
      "    Found existing installation: llama-index 0.9.15.post2\n",
      "    Uninstalling llama-index-0.9.15.post2:\n",
      "      Successfully uninstalled llama-index-0.9.15.post2\n",
      "Successfully installed aiostream-0.5.2 llama-index-0.9.6.post1\n"
     ]
    }
   ],
   "source": [
    "# For some reason this is not working when I add it to the pyproject.toml, will investigate later\n",
    "!pip install llama-index==0.9.6.post1"
   ]
  },
  {
   "cell_type": "code",
   "execution_count": 1,
   "id": "7bc5b969",
   "metadata": {},
   "outputs": [
    {
     "name": "stderr",
     "output_type": "stream",
     "text": [
      "/home/ec2-user/anaconda3/envs/python3/lib/python3.10/site-packages/pandas/core/computation/expressions.py:21: UserWarning: Pandas requires version '2.8.0' or newer of 'numexpr' (version '2.7.3' currently installed).\n",
      "  from pandas.core.computation.check import NUMEXPR_INSTALLED\n"
     ]
    }
   ],
   "source": [
    "from ragas.metrics.answer_correctness import AnswerCorrectness, answer_correctness\n",
    "from ragas.metrics.answer_relevance import AnswerRelevancy, answer_relevancy\n",
    "from ragas.metrics.answer_similarity import AnswerSimilarity, answer_similarity\n",
    "from ragas.metrics.context_precision import (\n",
    "    ContextPrecision,\n",
    "    ContextRelevancy,\n",
    "    context_precision,\n",
    ")\n",
    "from ragas.metrics.context_recall import ContextRecall, context_recall\n",
    "from ragas.metrics.critique import AspectCritique\n",
    "from ragas.metrics.faithfulness import Faithfulness, faithfulness"
   ]
  },
  {
   "cell_type": "markdown",
   "id": "c53e9e0d",
   "metadata": {},
   "source": [
    "### Import Dataset"
   ]
  },
  {
   "cell_type": "code",
   "execution_count": 2,
   "id": "adb423fb",
   "metadata": {
    "scrolled": true
   },
   "outputs": [
    {
     "data": {
      "text/plain": [
       "DatasetDict({\n",
       "    baseline: Dataset({\n",
       "        features: ['question', 'ground_truths', 'answer', 'contexts'],\n",
       "        num_rows: 30\n",
       "    })\n",
       "})"
      ]
     },
     "execution_count": 2,
     "metadata": {},
     "output_type": "execute_result"
    }
   ],
   "source": [
    "# Testing using ragas's examples\n",
    "# Change the dataset here\n",
    "from datasets import load_dataset\n",
    "\n",
    "fiqa_eval = load_dataset(\"explodinggradients/fiqa\", \"ragas_eval\")\n",
    "\n",
    "fiqa_eval"
   ]
  },
  {
   "cell_type": "code",
   "execution_count": 3,
   "id": "d8806d87",
   "metadata": {
    "scrolled": true
   },
   "outputs": [
    {
     "data": {
      "text/html": [
       "<div>\n",
       "<style scoped>\n",
       "    .dataframe tbody tr th:only-of-type {\n",
       "        vertical-align: middle;\n",
       "    }\n",
       "\n",
       "    .dataframe tbody tr th {\n",
       "        vertical-align: top;\n",
       "    }\n",
       "\n",
       "    .dataframe thead th {\n",
       "        text-align: right;\n",
       "    }\n",
       "</style>\n",
       "<table border=\"1\" class=\"dataframe\">\n",
       "  <thead>\n",
       "    <tr style=\"text-align: right;\">\n",
       "      <th></th>\n",
       "      <th>question</th>\n",
       "      <th>ground_truths</th>\n",
       "      <th>answer</th>\n",
       "      <th>contexts</th>\n",
       "    </tr>\n",
       "  </thead>\n",
       "  <tbody>\n",
       "    <tr>\n",
       "      <th>0</th>\n",
       "      <td>How to deposit a cheque issued to an associate...</td>\n",
       "      <td>[Have the check reissued to the proper payee.J...</td>\n",
       "      <td>\\nThe best way to deposit a cheque issued to a...</td>\n",
       "      <td>[Just have the associate sign the back and the...</td>\n",
       "    </tr>\n",
       "    <tr>\n",
       "      <th>1</th>\n",
       "      <td>Can I send a money order from USPS as a business?</td>\n",
       "      <td>[Sure you can.  You can fill in whatever you w...</td>\n",
       "      <td>\\nYes, you can send a money order from USPS as...</td>\n",
       "      <td>[Sure you can.  You can fill in whatever you w...</td>\n",
       "    </tr>\n",
       "    <tr>\n",
       "      <th>2</th>\n",
       "      <td>1 EIN doing business under multiple business n...</td>\n",
       "      <td>[You're confusing a lot of things here. Compan...</td>\n",
       "      <td>\\nYes, it is possible to have one EIN doing bu...</td>\n",
       "      <td>[You're confusing a lot of things here. Compan...</td>\n",
       "    </tr>\n",
       "    <tr>\n",
       "      <th>3</th>\n",
       "      <td>Applying for and receiving business credit</td>\n",
       "      <td>[\"I'm afraid the great myth of limited liabili...</td>\n",
       "      <td>\\nApplying for and receiving business credit c...</td>\n",
       "      <td>[Set up a meeting with the bank that handles y...</td>\n",
       "    </tr>\n",
       "    <tr>\n",
       "      <th>4</th>\n",
       "      <td>401k Transfer After Business Closure</td>\n",
       "      <td>[You should probably consult an attorney. Howe...</td>\n",
       "      <td>\\nIf your employer has closed and you need to ...</td>\n",
       "      <td>[The time horizon for your 401K/IRA is essenti...</td>\n",
       "    </tr>\n",
       "    <tr>\n",
       "      <th>5</th>\n",
       "      <td>What are the ins/outs of writing equipment pur...</td>\n",
       "      <td>[Most items used in business have to be deprec...</td>\n",
       "      <td>\\nWriting equipment purchases off as business ...</td>\n",
       "      <td>[You would report it as business income on Sch...</td>\n",
       "    </tr>\n",
       "    <tr>\n",
       "      <th>6</th>\n",
       "      <td>Can a entrepreneur hire a self-employed busine...</td>\n",
       "      <td>[Yes. I can by all means start my own company ...</td>\n",
       "      <td>\\nYes, an entrepreneur can hire a self-employe...</td>\n",
       "      <td>[Yes. I can by all means start my own company ...</td>\n",
       "    </tr>\n",
       "    <tr>\n",
       "      <th>7</th>\n",
       "      <td>Intentions of Deductible Amount for Small Busi...</td>\n",
       "      <td>[\"If your sole proprietorship losses exceed al...</td>\n",
       "      <td>\\nThe intention of deductible amounts for smal...</td>\n",
       "      <td>[\"Short answer, yes. But this is not done thro...</td>\n",
       "    </tr>\n",
       "    <tr>\n",
       "      <th>8</th>\n",
       "      <td>How can I deposit a check made out to my busin...</td>\n",
       "      <td>[You should have a separate business account. ...</td>\n",
       "      <td>\\nYou can deposit a check made out to your bus...</td>\n",
       "      <td>[\"I have checked with Bank of America, and the...</td>\n",
       "    </tr>\n",
       "    <tr>\n",
       "      <th>9</th>\n",
       "      <td>Filing personal with 1099s versus business s-c...</td>\n",
       "      <td>[Depends whom the 1099 was issued to. If it wa...</td>\n",
       "      <td>\\nFiling personal taxes with 1099s versus fili...</td>\n",
       "      <td>[Depends whom the 1099 was issued to. If it wa...</td>\n",
       "    </tr>\n",
       "    <tr>\n",
       "      <th>10</th>\n",
       "      <td>Using credit card points to pay for tax deduct...</td>\n",
       "      <td>[\"For simplicity, let's start by just consider...</td>\n",
       "      <td>\\nUsing credit card points to pay for tax dedu...</td>\n",
       "      <td>[\"For simplicity, let's start by just consider...</td>\n",
       "    </tr>\n",
       "    <tr>\n",
       "      <th>11</th>\n",
       "      <td>How can I make $250,000.00 from trading/invest...</td>\n",
       "      <td>[Deposit $3,500 each month in a brokerage acco...</td>\n",
       "      <td>\\nMaking $250,000.00 from trading/investing/bu...</td>\n",
       "      <td>[\"The answer to your question is Forex trading...</td>\n",
       "    </tr>\n",
       "    <tr>\n",
       "      <th>12</th>\n",
       "      <td>Investing/business with other people's money: ...</td>\n",
       "      <td>[\"Basically, you either borrow money, or get o...</td>\n",
       "      <td>\\nInvesting/business with other people's money...</td>\n",
       "      <td>[\"Basically, you either borrow money, or get o...</td>\n",
       "    </tr>\n",
       "    <tr>\n",
       "      <th>13</th>\n",
       "      <td>What approaches are there for pricing a small ...</td>\n",
       "      <td>[I don't have any experience in this, but this...</td>\n",
       "      <td>\\nThere are several approaches for pricing a s...</td>\n",
       "      <td>[I don't have any experience in this, but this...</td>\n",
       "    </tr>\n",
       "    <tr>\n",
       "      <th>14</th>\n",
       "      <td>How to account for money earned and spent prio...</td>\n",
       "      <td>[Funds earned and spent before opening a dedic...</td>\n",
       "      <td>\\nMoney earned and spent prior to establishing...</td>\n",
       "      <td>[Funds earned and spent before opening a dedic...</td>\n",
       "    </tr>\n",
       "    <tr>\n",
       "      <th>15</th>\n",
       "      <td>Do I need a new EIN since I am hiring employee...</td>\n",
       "      <td>[I called the IRS (click here for IRS contact ...</td>\n",
       "      <td>\\nNo, you do not need a new EIN since you are ...</td>\n",
       "      <td>[You don't need to notify the IRS of new membe...</td>\n",
       "    </tr>\n",
       "    <tr>\n",
       "      <th>16</th>\n",
       "      <td>Privacy preferences on creditworthiness data</td>\n",
       "      <td>[See the first item in the list: For our every...</td>\n",
       "      <td>\\nThe best answer to this question is that you...</td>\n",
       "      <td>[See the first item in the list: For our every...</td>\n",
       "    </tr>\n",
       "    <tr>\n",
       "      <th>17</th>\n",
       "      <td>Have plenty of cash flow but bad credit</td>\n",
       "      <td>[Set up a meeting with the bank that handles y...</td>\n",
       "      <td>\\nIf you have plenty of cash flow but bad cred...</td>\n",
       "      <td>[This is probably a good time to note that cre...</td>\n",
       "    </tr>\n",
       "    <tr>\n",
       "      <th>18</th>\n",
       "      <td>financial institution wants share member break...</td>\n",
       "      <td>[\"What exactly would the financial institution...</td>\n",
       "      <td>\\nThe financial institution would need to see ...</td>\n",
       "      <td>[\"What exactly would the financial institution...</td>\n",
       "    </tr>\n",
       "    <tr>\n",
       "      <th>19</th>\n",
       "      <td>Sole proprietorship or LLC?</td>\n",
       "      <td>[\"The primary advantage is protection of your ...</td>\n",
       "      <td>\\nIt depends on your individual situation and ...</td>\n",
       "      <td>[There is some benefit to creating a corporati...</td>\n",
       "    </tr>\n",
       "    <tr>\n",
       "      <th>20</th>\n",
       "      <td>What percentage of my company should I have if...</td>\n",
       "      <td>[There is no universal answer here; it depends...</td>\n",
       "      <td>\\nIt is generally recommended to have no more ...</td>\n",
       "      <td>[To me it depends on things like your net wort...</td>\n",
       "    </tr>\n",
       "    <tr>\n",
       "      <th>21</th>\n",
       "      <td>Where to request ACH Direct DEBIT of funds fro...</td>\n",
       "      <td>[Call Wells Fargo or go to a branch.  Tell the...</td>\n",
       "      <td>\\nThe best place to request ACH Direct DEBIT o...</td>\n",
       "      <td>[Call Wells Fargo or go to a branch.  Tell the...</td>\n",
       "    </tr>\n",
       "    <tr>\n",
       "      <th>22</th>\n",
       "      <td>Challenged an apparently bogus credit card cha...</td>\n",
       "      <td>[Yes.  For $15 it's not worth anyone's time to...</td>\n",
       "      <td>\\nNow, the collector is obliged to go back to ...</td>\n",
       "      <td>[If you tell the collector that the claim isn'...</td>\n",
       "    </tr>\n",
       "    <tr>\n",
       "      <th>23</th>\n",
       "      <td>Employer options when setting up 401k for empl...</td>\n",
       "      <td>[If you were looking to maximize your ability ...</td>\n",
       "      <td>\\nWhen setting up a 401k plan for employees, e...</td>\n",
       "      <td>[Pre-Enron many companies forced the 401K matc...</td>\n",
       "    </tr>\n",
       "    <tr>\n",
       "      <th>24</th>\n",
       "      <td>Following an investment guru a good idea?</td>\n",
       "      <td>[\"The best answer here is \"\"maybe, but probabl...</td>\n",
       "      <td>\\nNo, following an investment guru is not nece...</td>\n",
       "      <td>[I think following the professional money mana...</td>\n",
       "    </tr>\n",
       "    <tr>\n",
       "      <th>25</th>\n",
       "      <td>Is there a reason to buy a 0% yield bond?</td>\n",
       "      <td>[0% bonds are desirable for some individuals. ...</td>\n",
       "      <td>\\nYes, there is a reason to buy a 0% yield bon...</td>\n",
       "      <td>[No, there isn't. There are a number of reason...</td>\n",
       "    </tr>\n",
       "    <tr>\n",
       "      <th>26</th>\n",
       "      <td>Should a retail trader bother about reading SE...</td>\n",
       "      <td>[\"There are many different kinds of SEC filing...</td>\n",
       "      <td>\\nIt depends on the individual investor's goal...</td>\n",
       "      <td>[\"There are many different kinds of SEC filing...</td>\n",
       "    </tr>\n",
       "    <tr>\n",
       "      <th>27</th>\n",
       "      <td>Will one’s education loan application be rejec...</td>\n",
       "      <td>[A bank can reject a loan if they feel you do ...</td>\n",
       "      <td>\\nIt is possible that one's education loan app...</td>\n",
       "      <td>[Edit: lazy math The answer to this question d...</td>\n",
       "    </tr>\n",
       "    <tr>\n",
       "      <th>28</th>\n",
       "      <td>Is there a dollar amount that, when adding Mas...</td>\n",
       "      <td>[No. $188.23 has $11.76 tax = $199.99 $188.24 ...</td>\n",
       "      <td>\\nNo, there is not a dollar amount that, when ...</td>\n",
       "      <td>[Yes, it's a simple calculation. (x+0.0625x)=2...</td>\n",
       "    </tr>\n",
       "    <tr>\n",
       "      <th>29</th>\n",
       "      <td>Is it wise to have plenty of current accounts ...</td>\n",
       "      <td>[Its actually a good thing.  The #1 factor to ...</td>\n",
       "      <td>\\nYes, it is wise to have plenty of current ac...</td>\n",
       "      <td>[I don't think there's any law against having ...</td>\n",
       "    </tr>\n",
       "  </tbody>\n",
       "</table>\n",
       "</div>"
      ],
      "text/plain": [
       "                                             question  \\\n",
       "0   How to deposit a cheque issued to an associate...   \n",
       "1   Can I send a money order from USPS as a business?   \n",
       "2   1 EIN doing business under multiple business n...   \n",
       "3          Applying for and receiving business credit   \n",
       "4                401k Transfer After Business Closure   \n",
       "5   What are the ins/outs of writing equipment pur...   \n",
       "6   Can a entrepreneur hire a self-employed busine...   \n",
       "7   Intentions of Deductible Amount for Small Busi...   \n",
       "8   How can I deposit a check made out to my busin...   \n",
       "9   Filing personal with 1099s versus business s-c...   \n",
       "10  Using credit card points to pay for tax deduct...   \n",
       "11  How can I make $250,000.00 from trading/invest...   \n",
       "12  Investing/business with other people's money: ...   \n",
       "13  What approaches are there for pricing a small ...   \n",
       "14  How to account for money earned and spent prio...   \n",
       "15  Do I need a new EIN since I am hiring employee...   \n",
       "16       Privacy preferences on creditworthiness data   \n",
       "17            Have plenty of cash flow but bad credit   \n",
       "18  financial institution wants share member break...   \n",
       "19                        Sole proprietorship or LLC?   \n",
       "20  What percentage of my company should I have if...   \n",
       "21  Where to request ACH Direct DEBIT of funds fro...   \n",
       "22  Challenged an apparently bogus credit card cha...   \n",
       "23  Employer options when setting up 401k for empl...   \n",
       "24          Following an investment guru a good idea?   \n",
       "25          Is there a reason to buy a 0% yield bond?   \n",
       "26  Should a retail trader bother about reading SE...   \n",
       "27  Will one’s education loan application be rejec...   \n",
       "28  Is there a dollar amount that, when adding Mas...   \n",
       "29  Is it wise to have plenty of current accounts ...   \n",
       "\n",
       "                                        ground_truths  \\\n",
       "0   [Have the check reissued to the proper payee.J...   \n",
       "1   [Sure you can.  You can fill in whatever you w...   \n",
       "2   [You're confusing a lot of things here. Compan...   \n",
       "3   [\"I'm afraid the great myth of limited liabili...   \n",
       "4   [You should probably consult an attorney. Howe...   \n",
       "5   [Most items used in business have to be deprec...   \n",
       "6   [Yes. I can by all means start my own company ...   \n",
       "7   [\"If your sole proprietorship losses exceed al...   \n",
       "8   [You should have a separate business account. ...   \n",
       "9   [Depends whom the 1099 was issued to. If it wa...   \n",
       "10  [\"For simplicity, let's start by just consider...   \n",
       "11  [Deposit $3,500 each month in a brokerage acco...   \n",
       "12  [\"Basically, you either borrow money, or get o...   \n",
       "13  [I don't have any experience in this, but this...   \n",
       "14  [Funds earned and spent before opening a dedic...   \n",
       "15  [I called the IRS (click here for IRS contact ...   \n",
       "16  [See the first item in the list: For our every...   \n",
       "17  [Set up a meeting with the bank that handles y...   \n",
       "18  [\"What exactly would the financial institution...   \n",
       "19  [\"The primary advantage is protection of your ...   \n",
       "20  [There is no universal answer here; it depends...   \n",
       "21  [Call Wells Fargo or go to a branch.  Tell the...   \n",
       "22  [Yes.  For $15 it's not worth anyone's time to...   \n",
       "23  [If you were looking to maximize your ability ...   \n",
       "24  [\"The best answer here is \"\"maybe, but probabl...   \n",
       "25  [0% bonds are desirable for some individuals. ...   \n",
       "26  [\"There are many different kinds of SEC filing...   \n",
       "27  [A bank can reject a loan if they feel you do ...   \n",
       "28  [No. $188.23 has $11.76 tax = $199.99 $188.24 ...   \n",
       "29  [Its actually a good thing.  The #1 factor to ...   \n",
       "\n",
       "                                               answer  \\\n",
       "0   \\nThe best way to deposit a cheque issued to a...   \n",
       "1   \\nYes, you can send a money order from USPS as...   \n",
       "2   \\nYes, it is possible to have one EIN doing bu...   \n",
       "3   \\nApplying for and receiving business credit c...   \n",
       "4   \\nIf your employer has closed and you need to ...   \n",
       "5   \\nWriting equipment purchases off as business ...   \n",
       "6   \\nYes, an entrepreneur can hire a self-employe...   \n",
       "7   \\nThe intention of deductible amounts for smal...   \n",
       "8   \\nYou can deposit a check made out to your bus...   \n",
       "9   \\nFiling personal taxes with 1099s versus fili...   \n",
       "10  \\nUsing credit card points to pay for tax dedu...   \n",
       "11  \\nMaking $250,000.00 from trading/investing/bu...   \n",
       "12  \\nInvesting/business with other people's money...   \n",
       "13  \\nThere are several approaches for pricing a s...   \n",
       "14  \\nMoney earned and spent prior to establishing...   \n",
       "15  \\nNo, you do not need a new EIN since you are ...   \n",
       "16  \\nThe best answer to this question is that you...   \n",
       "17  \\nIf you have plenty of cash flow but bad cred...   \n",
       "18  \\nThe financial institution would need to see ...   \n",
       "19  \\nIt depends on your individual situation and ...   \n",
       "20  \\nIt is generally recommended to have no more ...   \n",
       "21  \\nThe best place to request ACH Direct DEBIT o...   \n",
       "22  \\nNow, the collector is obliged to go back to ...   \n",
       "23  \\nWhen setting up a 401k plan for employees, e...   \n",
       "24  \\nNo, following an investment guru is not nece...   \n",
       "25  \\nYes, there is a reason to buy a 0% yield bon...   \n",
       "26  \\nIt depends on the individual investor's goal...   \n",
       "27  \\nIt is possible that one's education loan app...   \n",
       "28  \\nNo, there is not a dollar amount that, when ...   \n",
       "29  \\nYes, it is wise to have plenty of current ac...   \n",
       "\n",
       "                                             contexts  \n",
       "0   [Just have the associate sign the back and the...  \n",
       "1   [Sure you can.  You can fill in whatever you w...  \n",
       "2   [You're confusing a lot of things here. Compan...  \n",
       "3   [Set up a meeting with the bank that handles y...  \n",
       "4   [The time horizon for your 401K/IRA is essenti...  \n",
       "5   [You would report it as business income on Sch...  \n",
       "6   [Yes. I can by all means start my own company ...  \n",
       "7   [\"Short answer, yes. But this is not done thro...  \n",
       "8   [\"I have checked with Bank of America, and the...  \n",
       "9   [Depends whom the 1099 was issued to. If it wa...  \n",
       "10  [\"For simplicity, let's start by just consider...  \n",
       "11  [\"The answer to your question is Forex trading...  \n",
       "12  [\"Basically, you either borrow money, or get o...  \n",
       "13  [I don't have any experience in this, but this...  \n",
       "14  [Funds earned and spent before opening a dedic...  \n",
       "15  [You don't need to notify the IRS of new membe...  \n",
       "16  [See the first item in the list: For our every...  \n",
       "17  [This is probably a good time to note that cre...  \n",
       "18  [\"What exactly would the financial institution...  \n",
       "19  [There is some benefit to creating a corporati...  \n",
       "20  [To me it depends on things like your net wort...  \n",
       "21  [Call Wells Fargo or go to a branch.  Tell the...  \n",
       "22  [If you tell the collector that the claim isn'...  \n",
       "23  [Pre-Enron many companies forced the 401K matc...  \n",
       "24  [I think following the professional money mana...  \n",
       "25  [No, there isn't. There are a number of reason...  \n",
       "26  [\"There are many different kinds of SEC filing...  \n",
       "27  [Edit: lazy math The answer to this question d...  \n",
       "28  [Yes, it's a simple calculation. (x+0.0625x)=2...  \n",
       "29  [I don't think there's any law against having ...  "
      ]
     },
     "execution_count": 3,
     "metadata": {},
     "output_type": "execute_result"
    }
   ],
   "source": [
    "fiqa_eval['baseline'].to_pandas()"
   ]
  },
  {
   "cell_type": "code",
   "execution_count": 4,
   "id": "55baffe6",
   "metadata": {},
   "outputs": [],
   "source": [
    "from ragas import evaluate"
   ]
  },
  {
   "cell_type": "code",
   "execution_count": 5,
   "id": "f452d2d0",
   "metadata": {},
   "outputs": [],
   "source": [
    "# NOTE: Comment out any metrics you don't want to use\n",
    "metrics = [\n",
    "    context_recall,\n",
    "    context_precision,\n",
    "    # answer_relevancy, # need access to bedrock titan embeddings model, don't have currently in this account\n",
    "    faithfulness,\n",
    "    answer_similarity,\n",
    "    answer_correctness\n",
    "]"
   ]
  },
  {
   "cell_type": "code",
   "execution_count": 6,
   "id": "a07c14c1",
   "metadata": {},
   "outputs": [
    {
     "data": {
      "text/plain": [
       "Dataset({\n",
       "    features: ['question', 'ground_truths', 'answer', 'contexts'],\n",
       "    num_rows: 4\n",
       "})"
      ]
     },
     "execution_count": 6,
     "metadata": {},
     "output_type": "execute_result"
    }
   ],
   "source": [
    "fiqa_eval[\"baseline\"].select(range(4))"
   ]
  },
  {
   "cell_type": "code",
   "execution_count": 7,
   "id": "38a936c5",
   "metadata": {},
   "outputs": [
    {
     "name": "stdout",
     "output_type": "stream",
     "text": [
      "evaluating with [context_recall]\n"
     ]
    },
    {
     "name": "stderr",
     "output_type": "stream",
     "text": [
      "100%|██████████| 1/1 [01:08<00:00, 68.38s/it]\n"
     ]
    },
    {
     "name": "stdout",
     "output_type": "stream",
     "text": [
      "evaluating with [context_precision]\n"
     ]
    },
    {
     "name": "stderr",
     "output_type": "stream",
     "text": [
      "100%|██████████| 1/1 [00:12<00:00, 12.89s/it]\n"
     ]
    },
    {
     "name": "stdout",
     "output_type": "stream",
     "text": [
      "evaluating with [faithfulness]\n"
     ]
    },
    {
     "name": "stderr",
     "output_type": "stream",
     "text": [
      "100%|██████████| 1/1 [01:33<00:00, 93.06s/it]\n"
     ]
    },
    {
     "name": "stdout",
     "output_type": "stream",
     "text": [
      "evaluating with [answer_similarity]\n"
     ]
    },
    {
     "name": "stderr",
     "output_type": "stream",
     "text": [
      "100%|██████████| 1/1 [00:01<00:00,  1.66s/it]\n"
     ]
    },
    {
     "name": "stdout",
     "output_type": "stream",
     "text": [
      "evaluating with [answer_correctness]\n"
     ]
    },
    {
     "name": "stderr",
     "output_type": "stream",
     "text": [
      "100%|██████████| 1/1 [01:11<00:00, 71.17s/it]\n"
     ]
    },
    {
     "data": {
      "text/plain": [
       "{'ragas_score': 0.7048, 'context_recall': 0.7250, 'context_precision': 0.7500, 'faithfulness': 1.0000, 'answer_similarity': 0.5444, 'answer_correctness': 0.6472}"
      ]
     },
     "execution_count": 7,
     "metadata": {},
     "output_type": "execute_result"
    }
   ],
   "source": [
    "result = evaluate(fiqa_eval[\"baseline\"].select(range(4)), metrics=metrics)\n",
    "result"
   ]
  },
  {
   "cell_type": "code",
   "execution_count": 20,
   "id": "9a650e01",
   "metadata": {},
   "outputs": [
    {
     "data": {
      "text/html": [
       "<div>\n",
       "<style scoped>\n",
       "    .dataframe tbody tr th:only-of-type {\n",
       "        vertical-align: middle;\n",
       "    }\n",
       "\n",
       "    .dataframe tbody tr th {\n",
       "        vertical-align: top;\n",
       "    }\n",
       "\n",
       "    .dataframe thead th {\n",
       "        text-align: right;\n",
       "    }\n",
       "</style>\n",
       "<table border=\"1\" class=\"dataframe\">\n",
       "  <thead>\n",
       "    <tr style=\"text-align: right;\">\n",
       "      <th></th>\n",
       "      <th>question</th>\n",
       "      <th>contexts</th>\n",
       "      <th>answer</th>\n",
       "      <th>ground_truths</th>\n",
       "      <th>context_recall</th>\n",
       "      <th>context_precision</th>\n",
       "      <th>faithfulness</th>\n",
       "      <th>answer_similarity</th>\n",
       "      <th>answer_correctness</th>\n",
       "    </tr>\n",
       "  </thead>\n",
       "  <tbody>\n",
       "    <tr>\n",
       "      <th>0</th>\n",
       "      <td>How to deposit a cheque issued to an associate...</td>\n",
       "      <td>[Just have the associate sign the back and the...</td>\n",
       "      <td>\\nThe best way to deposit a cheque issued to a...</td>\n",
       "      <td>[Have the check reissued to the proper payee.J...</td>\n",
       "      <td>0.9</td>\n",
       "      <td>1.0</td>\n",
       "      <td>1.0</td>\n",
       "      <td>0.524963</td>\n",
       "      <td>0.262481</td>\n",
       "    </tr>\n",
       "    <tr>\n",
       "      <th>1</th>\n",
       "      <td>Can I send a money order from USPS as a business?</td>\n",
       "      <td>[Sure you can.  You can fill in whatever you w...</td>\n",
       "      <td>\\nYes, you can send a money order from USPS as...</td>\n",
       "      <td>[Sure you can.  You can fill in whatever you w...</td>\n",
       "      <td>1.0</td>\n",
       "      <td>1.0</td>\n",
       "      <td>1.0</td>\n",
       "      <td>0.526689</td>\n",
       "      <td>0.763345</td>\n",
       "    </tr>\n",
       "    <tr>\n",
       "      <th>2</th>\n",
       "      <td>1 EIN doing business under multiple business n...</td>\n",
       "      <td>[You're confusing a lot of things here. Compan...</td>\n",
       "      <td>\\nYes, it is possible to have one EIN doing bu...</td>\n",
       "      <td>[You're confusing a lot of things here. Compan...</td>\n",
       "      <td>0.0</td>\n",
       "      <td>0.0</td>\n",
       "      <td>1.0</td>\n",
       "      <td>0.353534</td>\n",
       "      <td>0.676767</td>\n",
       "    </tr>\n",
       "    <tr>\n",
       "      <th>3</th>\n",
       "      <td>Applying for and receiving business credit</td>\n",
       "      <td>[Set up a meeting with the bank that handles y...</td>\n",
       "      <td>\\nApplying for and receiving business credit c...</td>\n",
       "      <td>[\"I'm afraid the great myth of limited liabili...</td>\n",
       "      <td>1.0</td>\n",
       "      <td>1.0</td>\n",
       "      <td>1.0</td>\n",
       "      <td>0.772560</td>\n",
       "      <td>0.886280</td>\n",
       "    </tr>\n",
       "  </tbody>\n",
       "</table>\n",
       "</div>"
      ],
      "text/plain": [
       "                                            question  \\\n",
       "0  How to deposit a cheque issued to an associate...   \n",
       "1  Can I send a money order from USPS as a business?   \n",
       "2  1 EIN doing business under multiple business n...   \n",
       "3         Applying for and receiving business credit   \n",
       "\n",
       "                                            contexts  \\\n",
       "0  [Just have the associate sign the back and the...   \n",
       "1  [Sure you can.  You can fill in whatever you w...   \n",
       "2  [You're confusing a lot of things here. Compan...   \n",
       "3  [Set up a meeting with the bank that handles y...   \n",
       "\n",
       "                                              answer  \\\n",
       "0  \\nThe best way to deposit a cheque issued to a...   \n",
       "1  \\nYes, you can send a money order from USPS as...   \n",
       "2  \\nYes, it is possible to have one EIN doing bu...   \n",
       "3  \\nApplying for and receiving business credit c...   \n",
       "\n",
       "                                       ground_truths  context_recall  \\\n",
       "0  [Have the check reissued to the proper payee.J...             0.9   \n",
       "1  [Sure you can.  You can fill in whatever you w...             1.0   \n",
       "2  [You're confusing a lot of things here. Compan...             0.0   \n",
       "3  [\"I'm afraid the great myth of limited liabili...             1.0   \n",
       "\n",
       "   context_precision  faithfulness  answer_similarity  answer_correctness  \n",
       "0                1.0           1.0           0.524963            0.262481  \n",
       "1                1.0           1.0           0.526689            0.763345  \n",
       "2                0.0           1.0           0.353534            0.676767  \n",
       "3                1.0           1.0           0.772560            0.886280  "
      ]
     },
     "execution_count": 20,
     "metadata": {},
     "output_type": "execute_result"
    }
   ],
   "source": [
    "df = result.to_pandas()\n",
    "df"
   ]
  },
  {
   "cell_type": "markdown",
   "id": "d9ad0c0b",
   "metadata": {},
   "source": [
    "## Faithfulness"
   ]
  },
  {
   "cell_type": "markdown",
   "id": "44474868",
   "metadata": {},
   "source": [
    "This measures the factual consistency of the generated answer against the given context. It is calculated from answer and retrieved context. The answer is scaled to (0,1) range. Higher the better.\n",
    "\n",
    "The generated answer is regarded as faithful if all the claims that are made in the answer can be inferred from the given context. To calculate this a set of claims from the generated answer is first identified. Then each one of these claims are cross checked with given context to determine if it can be inferred from given context or not. The faithfulness score is given by dividing the number of claims that can be inferred from a given context by the total number of claims in the generated answer. "
   ]
  },
  {
   "cell_type": "markdown",
   "id": "3c5809c4",
   "metadata": {},
   "source": [
    "#### Example: "
   ]
  },
  {
   "cell_type": "markdown",
   "id": "7c56b8ed",
   "metadata": {},
   "source": [
    "**Question**: Where and where was Einstein born?\n",
    "\n",
    "**Context**: Albert Einstein (born 14 March 1879) was a German-born theoretical physicist, widely held to be one of the greatest and most influential scientists of all time\n",
    "\n",
    "**High faithfulness answer**: Einstein was born in Germany on 14th March 1879.\n",
    "\n",
    "**Low faithfulness answer**:  Einstein was born in Germany on 20th March 1879.\n"
   ]
  },
  {
   "cell_type": "code",
   "execution_count": 23,
   "id": "a06fc593",
   "metadata": {},
   "outputs": [
    {
     "name": "stderr",
     "output_type": "stream",
     "text": [
      "100%|██████████| 1/1 [01:35<00:00, 95.19s/it]\n"
     ]
    }
   ],
   "source": [
    "faithfulness_score = faithfulness.score(fiqa_eval[\"baseline\"].select(range(4)))"
   ]
  },
  {
   "cell_type": "code",
   "execution_count": 24,
   "id": "4e7cfca9",
   "metadata": {
    "scrolled": true
   },
   "outputs": [
    {
     "data": {
      "text/html": [
       "<div>\n",
       "<style scoped>\n",
       "    .dataframe tbody tr th:only-of-type {\n",
       "        vertical-align: middle;\n",
       "    }\n",
       "\n",
       "    .dataframe tbody tr th {\n",
       "        vertical-align: top;\n",
       "    }\n",
       "\n",
       "    .dataframe thead th {\n",
       "        text-align: right;\n",
       "    }\n",
       "</style>\n",
       "<table border=\"1\" class=\"dataframe\">\n",
       "  <thead>\n",
       "    <tr style=\"text-align: right;\">\n",
       "      <th></th>\n",
       "      <th>question</th>\n",
       "      <th>ground_truths</th>\n",
       "      <th>answer</th>\n",
       "      <th>contexts</th>\n",
       "      <th>faithfulness</th>\n",
       "      <th>verdicts</th>\n",
       "    </tr>\n",
       "  </thead>\n",
       "  <tbody>\n",
       "    <tr>\n",
       "      <th>0</th>\n",
       "      <td>How to deposit a cheque issued to an associate...</td>\n",
       "      <td>[Have the check reissued to the proper payee.J...</td>\n",
       "      <td>\\nThe best way to deposit a cheque issued to a...</td>\n",
       "      <td>[Just have the associate sign the back and the...</td>\n",
       "      <td>1.0</td>\n",
       "      <td>The best way to deposit a cheque issued to an ...</td>\n",
       "    </tr>\n",
       "    <tr>\n",
       "      <th>1</th>\n",
       "      <td>Can I send a money order from USPS as a business?</td>\n",
       "      <td>[Sure you can.  You can fill in whatever you w...</td>\n",
       "      <td>\\nYes, you can send a money order from USPS as...</td>\n",
       "      <td>[Sure you can.  You can fill in whatever you w...</td>\n",
       "      <td>1.0</td>\n",
       "      <td>You can send a money order from USPS as a busi...</td>\n",
       "    </tr>\n",
       "    <tr>\n",
       "      <th>2</th>\n",
       "      <td>1 EIN doing business under multiple business n...</td>\n",
       "      <td>[You're confusing a lot of things here. Compan...</td>\n",
       "      <td>\\nYes, it is possible to have one EIN doing bu...</td>\n",
       "      <td>[You're confusing a lot of things here. Compan...</td>\n",
       "      <td>1.0</td>\n",
       "      <td>It is possible to have one EIN doing business ...</td>\n",
       "    </tr>\n",
       "    <tr>\n",
       "      <th>3</th>\n",
       "      <td>Applying for and receiving business credit</td>\n",
       "      <td>[\"I'm afraid the great myth of limited liabili...</td>\n",
       "      <td>\\nApplying for and receiving business credit c...</td>\n",
       "      <td>[Set up a meeting with the bank that handles y...</td>\n",
       "      <td>1.0</td>\n",
       "      <td>Applying for and receiving business credit can...</td>\n",
       "    </tr>\n",
       "  </tbody>\n",
       "</table>\n",
       "</div>"
      ],
      "text/plain": [
       "                                            question  \\\n",
       "0  How to deposit a cheque issued to an associate...   \n",
       "1  Can I send a money order from USPS as a business?   \n",
       "2  1 EIN doing business under multiple business n...   \n",
       "3         Applying for and receiving business credit   \n",
       "\n",
       "                                       ground_truths  \\\n",
       "0  [Have the check reissued to the proper payee.J...   \n",
       "1  [Sure you can.  You can fill in whatever you w...   \n",
       "2  [You're confusing a lot of things here. Compan...   \n",
       "3  [\"I'm afraid the great myth of limited liabili...   \n",
       "\n",
       "                                              answer  \\\n",
       "0  \\nThe best way to deposit a cheque issued to a...   \n",
       "1  \\nYes, you can send a money order from USPS as...   \n",
       "2  \\nYes, it is possible to have one EIN doing bu...   \n",
       "3  \\nApplying for and receiving business credit c...   \n",
       "\n",
       "                                            contexts  faithfulness  \\\n",
       "0  [Just have the associate sign the back and the...           1.0   \n",
       "1  [Sure you can.  You can fill in whatever you w...           1.0   \n",
       "2  [You're confusing a lot of things here. Compan...           1.0   \n",
       "3  [Set up a meeting with the bank that handles y...           1.0   \n",
       "\n",
       "                                            verdicts  \n",
       "0  The best way to deposit a cheque issued to an ...  \n",
       "1  You can send a money order from USPS as a busi...  \n",
       "2  It is possible to have one EIN doing business ...  \n",
       "3  Applying for and receiving business credit can...  "
      ]
     },
     "execution_count": 24,
     "metadata": {},
     "output_type": "execute_result"
    }
   ],
   "source": [
    "faithfulness_score.to_pandas()"
   ]
  },
  {
   "cell_type": "code",
   "execution_count": 25,
   "id": "6e5eaa8b",
   "metadata": {
    "scrolled": true
   },
   "outputs": [
    {
     "name": "stdout",
     "output_type": "stream",
     "text": [
      "How to deposit a cheque issued to an associate in my business into my business account?\n",
      "\n",
      "The best way to deposit a cheque issued to an associate in your business into your business account is to open a business account with the bank.: Yes\n",
      "You will need a state-issued \"dba\" certificate from the county clerk's office as well as an Employer ID Number (EIN) issued by the IRS to open a business account.: Yes\n",
      "Once you have opened the business account, you can have the associate sign the back of the cheque and deposit it into the business account.: Yes\n",
      "----------------------------------------------\n",
      "How to deposit a cheque issued to an associate in my business into my business account?\n",
      "\n",
      "The best way to deposit a cheque issued to an associate in your business into your business account is to open a business account with the bank.: Yes\n",
      "You will need a state-issued \"dba\" certificate from the county clerk's office as well as an Employer ID Number (EIN) issued by the IRS to open a business account.: Yes\n",
      "Once you have opened the business account, you can have the associate sign the back of the cheque and deposit it into the business account.: Yes\n",
      "----------------------------------------------\n",
      "How to deposit a cheque issued to an associate in my business into my business account?\n",
      "\n",
      "The best way to deposit a cheque issued to an associate in your business into your business account is to open a business account with the bank.: Yes\n",
      "You will need a state-issued \"dba\" certificate from the county clerk's office as well as an Employer ID Number (EIN) issued by the IRS to open a business account.: Yes\n",
      "Once you have opened the business account, you can have the associate sign the back of the cheque and deposit it into the business account.: Yes\n",
      "----------------------------------------------\n",
      "How to deposit a cheque issued to an associate in my business into my business account?\n",
      "\n",
      "The best way to deposit a cheque issued to an associate in your business into your business account is to open a business account with the bank.: Yes\n",
      "You will need a state-issued \"dba\" certificate from the county clerk's office as well as an Employer ID Number (EIN) issued by the IRS to open a business account.: Yes\n",
      "Once you have opened the business account, you can have the associate sign the back of the cheque and deposit it into the business account.: Yes\n",
      "----------------------------------------------\n",
      "How to deposit a cheque issued to an associate in my business into my business account?\n",
      "\n",
      "The best way to deposit a cheque issued to an associate in your business into your business account is to open a business account with the bank.: Yes\n",
      "You will need a state-issued \"dba\" certificate from the county clerk's office as well as an Employer ID Number (EIN) issued by the IRS to open a business account.: Yes\n",
      "Once you have opened the business account, you can have the associate sign the back of the cheque and deposit it into the business account.: Yes\n",
      "----------------------------------------------\n"
     ]
    }
   ],
   "source": [
    "## Print Verdicts\n",
    "# Is each sentence in the answer supported by the context - evaluate the answer? \n",
    "for i in range(5): \n",
    "    print(faithfulness_score.to_pandas()['question'].iloc[0])\n",
    "    print()\n",
    "    print(faithfulness_score.to_pandas()['verdicts'].iloc[0])\n",
    "    print(\"----------------------------------------------\")"
   ]
  },
  {
   "cell_type": "markdown",
   "id": "25e31e4c",
   "metadata": {},
   "source": [
    "## Context Precision"
   ]
  },
  {
   "cell_type": "markdown",
   "id": "be354457",
   "metadata": {},
   "source": [
    "Context Precision is a metric that evaluates whether the context is relevant to the answer or not. Therefore, it evaluates the retriever's ability to capture the best context to answer the user query. 0 represents if the retriever doesn't capture the correct context, while 1 represents that it does. If there are multiple contexts, then a value between 0 and 1 represents the percentages of contexts that is relevant to the question. "
   ]
  },
  {
   "cell_type": "code",
   "execution_count": 27,
   "id": "b833538c",
   "metadata": {},
   "outputs": [
    {
     "name": "stderr",
     "output_type": "stream",
     "text": [
      "100%|██████████| 1/1 [00:08<00:00,  8.95s/it]\n"
     ]
    }
   ],
   "source": [
    "context_prec_results = context_precision.score(fiqa_eval[\"baseline\"].select(range(4)))"
   ]
  },
  {
   "cell_type": "code",
   "execution_count": 28,
   "id": "eaff7042",
   "metadata": {
    "scrolled": true
   },
   "outputs": [
    {
     "data": {
      "text/html": [
       "<div>\n",
       "<style scoped>\n",
       "    .dataframe tbody tr th:only-of-type {\n",
       "        vertical-align: middle;\n",
       "    }\n",
       "\n",
       "    .dataframe tbody tr th {\n",
       "        vertical-align: top;\n",
       "    }\n",
       "\n",
       "    .dataframe thead th {\n",
       "        text-align: right;\n",
       "    }\n",
       "</style>\n",
       "<table border=\"1\" class=\"dataframe\">\n",
       "  <thead>\n",
       "    <tr style=\"text-align: right;\">\n",
       "      <th></th>\n",
       "      <th>question</th>\n",
       "      <th>ground_truths</th>\n",
       "      <th>answer</th>\n",
       "      <th>contexts</th>\n",
       "      <th>context_precision</th>\n",
       "      <th>verdicts</th>\n",
       "    </tr>\n",
       "  </thead>\n",
       "  <tbody>\n",
       "    <tr>\n",
       "      <th>0</th>\n",
       "      <td>How to deposit a cheque issued to an associate...</td>\n",
       "      <td>[Have the check reissued to the proper payee.J...</td>\n",
       "      <td>\\nThe best way to deposit a cheque issued to a...</td>\n",
       "      <td>[Just have the associate sign the back and the...</td>\n",
       "      <td>1.0</td>\n",
       "      <td>[Just have the associate sign the back and the...</td>\n",
       "    </tr>\n",
       "    <tr>\n",
       "      <th>1</th>\n",
       "      <td>Can I send a money order from USPS as a business?</td>\n",
       "      <td>[Sure you can.  You can fill in whatever you w...</td>\n",
       "      <td>\\nYes, you can send a money order from USPS as...</td>\n",
       "      <td>[Sure you can.  You can fill in whatever you w...</td>\n",
       "      <td>1.0</td>\n",
       "      <td>[Sure you can.  You can fill in whatever you w...</td>\n",
       "    </tr>\n",
       "    <tr>\n",
       "      <th>2</th>\n",
       "      <td>1 EIN doing business under multiple business n...</td>\n",
       "      <td>[You're confusing a lot of things here. Compan...</td>\n",
       "      <td>\\nYes, it is possible to have one EIN doing bu...</td>\n",
       "      <td>[You're confusing a lot of things here. Compan...</td>\n",
       "      <td>0.0</td>\n",
       "      <td>[You're confusing a lot of things here. Compan...</td>\n",
       "    </tr>\n",
       "    <tr>\n",
       "      <th>3</th>\n",
       "      <td>Applying for and receiving business credit</td>\n",
       "      <td>[\"I'm afraid the great myth of limited liabili...</td>\n",
       "      <td>\\nApplying for and receiving business credit c...</td>\n",
       "      <td>[Set up a meeting with the bank that handles y...</td>\n",
       "      <td>1.0</td>\n",
       "      <td>[Set up a meeting with the bank that handles y...</td>\n",
       "    </tr>\n",
       "  </tbody>\n",
       "</table>\n",
       "</div>"
      ],
      "text/plain": [
       "                                            question  \\\n",
       "0  How to deposit a cheque issued to an associate...   \n",
       "1  Can I send a money order from USPS as a business?   \n",
       "2  1 EIN doing business under multiple business n...   \n",
       "3         Applying for and receiving business credit   \n",
       "\n",
       "                                       ground_truths  \\\n",
       "0  [Have the check reissued to the proper payee.J...   \n",
       "1  [Sure you can.  You can fill in whatever you w...   \n",
       "2  [You're confusing a lot of things here. Compan...   \n",
       "3  [\"I'm afraid the great myth of limited liabili...   \n",
       "\n",
       "                                              answer  \\\n",
       "0  \\nThe best way to deposit a cheque issued to a...   \n",
       "1  \\nYes, you can send a money order from USPS as...   \n",
       "2  \\nYes, it is possible to have one EIN doing bu...   \n",
       "3  \\nApplying for and receiving business credit c...   \n",
       "\n",
       "                                            contexts  context_precision  \\\n",
       "0  [Just have the associate sign the back and the...                1.0   \n",
       "1  [Sure you can.  You can fill in whatever you w...                1.0   \n",
       "2  [You're confusing a lot of things here. Compan...                0.0   \n",
       "3  [Set up a meeting with the bank that handles y...                1.0   \n",
       "\n",
       "                                            verdicts  \n",
       "0  [Just have the associate sign the back and the...  \n",
       "1  [Sure you can.  You can fill in whatever you w...  \n",
       "2  [You're confusing a lot of things here. Compan...  \n",
       "3  [Set up a meeting with the bank that handles y...  "
      ]
     },
     "execution_count": 28,
     "metadata": {},
     "output_type": "execute_result"
    }
   ],
   "source": [
    "context_prec_results.to_pandas()"
   ]
  },
  {
   "cell_type": "markdown",
   "id": "5ebfb337",
   "metadata": {},
   "source": [
    "----"
   ]
  },
  {
   "cell_type": "markdown",
   "id": "eff95f6f",
   "metadata": {},
   "source": [
    "## Context Recall"
   ]
  },
  {
   "cell_type": "markdown",
   "id": "822be8d4",
   "metadata": {},
   "source": [
    "Context recall measures the extent to which the retrieved context aligns with the annotated answer, treated as the ground truth. It is computed based on the ground truth and the retrieved context, and the values range between 0 and 1, with higher values indicating better performance.\n",
    "\n",
    "To estimate context recall from the ground truth answer, each sentence in the ground truth answer is analyzed to determine whether it can be attributed to the retrieved context or not. In an ideal scenario, all sentences in the ground truth answer should be attributable to the retrieved context.\n",
    "\n",
    "The formula for calculating context recall is as follows:"
   ]
  },
  {
   "cell_type": "markdown",
   "id": "ec9ccaaf",
   "metadata": {},
   "source": [
    "context recall = Ground Truth sentences that can be attributed to context / Number of sentences in Ground Truth"
   ]
  },
  {
   "cell_type": "code",
   "execution_count": 32,
   "id": "cdec61f6",
   "metadata": {},
   "outputs": [
    {
     "name": "stderr",
     "output_type": "stream",
     "text": [
      "100%|██████████| 1/1 [01:08<00:00, 68.08s/it]\n"
     ]
    }
   ],
   "source": [
    "context_recall_output = context_recall.score(fiqa_eval['baseline'].select(range(5)))"
   ]
  },
  {
   "cell_type": "code",
   "execution_count": 33,
   "id": "2b2b1d83",
   "metadata": {},
   "outputs": [
    {
     "data": {
      "text/html": [
       "<div>\n",
       "<style scoped>\n",
       "    .dataframe tbody tr th:only-of-type {\n",
       "        vertical-align: middle;\n",
       "    }\n",
       "\n",
       "    .dataframe tbody tr th {\n",
       "        vertical-align: top;\n",
       "    }\n",
       "\n",
       "    .dataframe thead th {\n",
       "        text-align: right;\n",
       "    }\n",
       "</style>\n",
       "<table border=\"1\" class=\"dataframe\">\n",
       "  <thead>\n",
       "    <tr style=\"text-align: right;\">\n",
       "      <th></th>\n",
       "      <th>question</th>\n",
       "      <th>ground_truths</th>\n",
       "      <th>answer</th>\n",
       "      <th>contexts</th>\n",
       "      <th>context_recall</th>\n",
       "      <th>verdicts</th>\n",
       "    </tr>\n",
       "  </thead>\n",
       "  <tbody>\n",
       "    <tr>\n",
       "      <th>0</th>\n",
       "      <td>How to deposit a cheque issued to an associate...</td>\n",
       "      <td>[Have the check reissued to the proper payee.J...</td>\n",
       "      <td>\\nThe best way to deposit a cheque issued to a...</td>\n",
       "      <td>[Just have the associate sign the back and the...</td>\n",
       "      <td>0.9</td>\n",
       "      <td>Have the check reissued to the proper payee.: ...</td>\n",
       "    </tr>\n",
       "    <tr>\n",
       "      <th>1</th>\n",
       "      <td>Can I send a money order from USPS as a business?</td>\n",
       "      <td>[Sure you can.  You can fill in whatever you w...</td>\n",
       "      <td>\\nYes, you can send a money order from USPS as...</td>\n",
       "      <td>[Sure you can.  You can fill in whatever you w...</td>\n",
       "      <td>1.0</td>\n",
       "      <td>You can fill in whatever you want in the From ...</td>\n",
       "    </tr>\n",
       "    <tr>\n",
       "      <th>2</th>\n",
       "      <td>1 EIN doing business under multiple business n...</td>\n",
       "      <td>[You're confusing a lot of things here. Compan...</td>\n",
       "      <td>\\nYes, it is possible to have one EIN doing bu...</td>\n",
       "      <td>[You're confusing a lot of things here. Compan...</td>\n",
       "      <td>0.0</td>\n",
       "      <td>You're confusing a lot of things here.: Not At...</td>\n",
       "    </tr>\n",
       "    <tr>\n",
       "      <th>3</th>\n",
       "      <td>Applying for and receiving business credit</td>\n",
       "      <td>[\"I'm afraid the great myth of limited liabili...</td>\n",
       "      <td>\\nApplying for and receiving business credit c...</td>\n",
       "      <td>[Set up a meeting with the bank that handles y...</td>\n",
       "      <td>1.0</td>\n",
       "      <td>Limited liability on a company with few physic...</td>\n",
       "    </tr>\n",
       "    <tr>\n",
       "      <th>4</th>\n",
       "      <td>401k Transfer After Business Closure</td>\n",
       "      <td>[You should probably consult an attorney. Howe...</td>\n",
       "      <td>\\nIf your employer has closed and you need to ...</td>\n",
       "      <td>[The time horizon for your 401K/IRA is essenti...</td>\n",
       "      <td>0.0</td>\n",
       "      <td>You should probably consult an attorney if the...</td>\n",
       "    </tr>\n",
       "  </tbody>\n",
       "</table>\n",
       "</div>"
      ],
      "text/plain": [
       "                                            question  \\\n",
       "0  How to deposit a cheque issued to an associate...   \n",
       "1  Can I send a money order from USPS as a business?   \n",
       "2  1 EIN doing business under multiple business n...   \n",
       "3         Applying for and receiving business credit   \n",
       "4               401k Transfer After Business Closure   \n",
       "\n",
       "                                       ground_truths  \\\n",
       "0  [Have the check reissued to the proper payee.J...   \n",
       "1  [Sure you can.  You can fill in whatever you w...   \n",
       "2  [You're confusing a lot of things here. Compan...   \n",
       "3  [\"I'm afraid the great myth of limited liabili...   \n",
       "4  [You should probably consult an attorney. Howe...   \n",
       "\n",
       "                                              answer  \\\n",
       "0  \\nThe best way to deposit a cheque issued to a...   \n",
       "1  \\nYes, you can send a money order from USPS as...   \n",
       "2  \\nYes, it is possible to have one EIN doing bu...   \n",
       "3  \\nApplying for and receiving business credit c...   \n",
       "4  \\nIf your employer has closed and you need to ...   \n",
       "\n",
       "                                            contexts  context_recall  \\\n",
       "0  [Just have the associate sign the back and the...             0.9   \n",
       "1  [Sure you can.  You can fill in whatever you w...             1.0   \n",
       "2  [You're confusing a lot of things here. Compan...             0.0   \n",
       "3  [Set up a meeting with the bank that handles y...             1.0   \n",
       "4  [The time horizon for your 401K/IRA is essenti...             0.0   \n",
       "\n",
       "                                            verdicts  \n",
       "0  Have the check reissued to the proper payee.: ...  \n",
       "1  You can fill in whatever you want in the From ...  \n",
       "2  You're confusing a lot of things here.: Not At...  \n",
       "3  Limited liability on a company with few physic...  \n",
       "4  You should probably consult an attorney if the...  "
      ]
     },
     "execution_count": 33,
     "metadata": {},
     "output_type": "execute_result"
    }
   ],
   "source": [
    "context_recall_output.to_pandas()"
   ]
  },
  {
   "cell_type": "code",
   "execution_count": 34,
   "id": "c12e822d",
   "metadata": {
    "scrolled": true
   },
   "outputs": [
    {
     "name": "stdout",
     "output_type": "stream",
     "text": [
      "How to deposit a cheque issued to an associate in my business into my business account?\n",
      "\n",
      "Have the check reissued to the proper payee.: Not Attributed\n",
      "Just have the associate sign the back and then deposit it.: Attributed\n",
      "It's called a third party cheque and is perfectly legal.: Attributed\n",
      "I wouldn't be surprised if it has a longer hold period and, as always, you don't get the money if the cheque doesn't clear.: Attributed\n",
      "Now, you may have problems if it's a large amount or you're not very well known at the bank.: Attributed\n",
      "In that case you can have the associate go to the bank and endorse it in front of the teller with some ID.: Attributed\n",
      "You don't even technically have to be there.: Attributed\n",
      "Anybody can deposit money to your account if they have the account number.: Attributed\n",
      "He could also just deposit it in his account and write a cheque to the business.: Attributed\n",
      "----------------------------------------------\n",
      "How to deposit a cheque issued to an associate in my business into my business account?\n",
      "\n",
      "Have the check reissued to the proper payee.: Not Attributed\n",
      "Just have the associate sign the back and then deposit it.: Attributed\n",
      "It's called a third party cheque and is perfectly legal.: Attributed\n",
      "I wouldn't be surprised if it has a longer hold period and, as always, you don't get the money if the cheque doesn't clear.: Attributed\n",
      "Now, you may have problems if it's a large amount or you're not very well known at the bank.: Attributed\n",
      "In that case you can have the associate go to the bank and endorse it in front of the teller with some ID.: Attributed\n",
      "You don't even technically have to be there.: Attributed\n",
      "Anybody can deposit money to your account if they have the account number.: Attributed\n",
      "He could also just deposit it in his account and write a cheque to the business.: Attributed\n",
      "----------------------------------------------\n",
      "How to deposit a cheque issued to an associate in my business into my business account?\n",
      "\n",
      "Have the check reissued to the proper payee.: Not Attributed\n",
      "Just have the associate sign the back and then deposit it.: Attributed\n",
      "It's called a third party cheque and is perfectly legal.: Attributed\n",
      "I wouldn't be surprised if it has a longer hold period and, as always, you don't get the money if the cheque doesn't clear.: Attributed\n",
      "Now, you may have problems if it's a large amount or you're not very well known at the bank.: Attributed\n",
      "In that case you can have the associate go to the bank and endorse it in front of the teller with some ID.: Attributed\n",
      "You don't even technically have to be there.: Attributed\n",
      "Anybody can deposit money to your account if they have the account number.: Attributed\n",
      "He could also just deposit it in his account and write a cheque to the business.: Attributed\n",
      "----------------------------------------------\n",
      "How to deposit a cheque issued to an associate in my business into my business account?\n",
      "\n",
      "Have the check reissued to the proper payee.: Not Attributed\n",
      "Just have the associate sign the back and then deposit it.: Attributed\n",
      "It's called a third party cheque and is perfectly legal.: Attributed\n",
      "I wouldn't be surprised if it has a longer hold period and, as always, you don't get the money if the cheque doesn't clear.: Attributed\n",
      "Now, you may have problems if it's a large amount or you're not very well known at the bank.: Attributed\n",
      "In that case you can have the associate go to the bank and endorse it in front of the teller with some ID.: Attributed\n",
      "You don't even technically have to be there.: Attributed\n",
      "Anybody can deposit money to your account if they have the account number.: Attributed\n",
      "He could also just deposit it in his account and write a cheque to the business.: Attributed\n",
      "----------------------------------------------\n",
      "How to deposit a cheque issued to an associate in my business into my business account?\n",
      "\n",
      "Have the check reissued to the proper payee.: Not Attributed\n",
      "Just have the associate sign the back and then deposit it.: Attributed\n",
      "It's called a third party cheque and is perfectly legal.: Attributed\n",
      "I wouldn't be surprised if it has a longer hold period and, as always, you don't get the money if the cheque doesn't clear.: Attributed\n",
      "Now, you may have problems if it's a large amount or you're not very well known at the bank.: Attributed\n",
      "In that case you can have the associate go to the bank and endorse it in front of the teller with some ID.: Attributed\n",
      "You don't even technically have to be there.: Attributed\n",
      "Anybody can deposit money to your account if they have the account number.: Attributed\n",
      "He could also just deposit it in his account and write a cheque to the business.: Attributed\n",
      "----------------------------------------------\n"
     ]
    }
   ],
   "source": [
    "# Verdicts\n",
    "# Can each sentence in the answer be attributed/explained by the context - evaluating the context? \n",
    "for i in range(5): \n",
    "    print(context_recall_output.to_pandas()['question'].iloc[0])\n",
    "    print()\n",
    "    print(context_recall_output.to_pandas()['verdicts'].iloc[0])\n",
    "    print(\"----------------------------------------------\")"
   ]
  },
  {
   "cell_type": "markdown",
   "id": "8911a64a",
   "metadata": {},
   "source": [
    "## Answer Similarity"
   ]
  },
  {
   "cell_type": "markdown",
   "id": "17021bda",
   "metadata": {},
   "source": [
    "The concept of Answer Semantic Similarity pertains to the assessment of the semantic resemblance between the generated answer and the ground truth. This evaluation is based on the ground truth and the answer, with values falling within the range of 0 to 1. A higher score signifies a better alignment between the generated answer and the ground truth.\n",
    "\n",
    "Measuring the semantic similarity between answers can offer valuable insights into the quality of the generated response. This evaluation utilizes a cross-encoder model to calculate the semantic similarity score."
   ]
  },
  {
   "cell_type": "markdown",
   "id": "504ab142",
   "metadata": {},
   "source": [
    "**Ground truth**: Albert Einstein's theory of relativity revolutionized our understanding of the universe.\"\n",
    "\n",
    "**High similarity answer**: Einstein's groundbreaking theory of relativity transformed our comprehension of the cosmos.\n",
    "\n",
    "**Low similarity answer**: Isaac Newton's laws of motion greatly influenced classical physics."
   ]
  },
  {
   "cell_type": "code",
   "execution_count": 35,
   "id": "a9af1c01",
   "metadata": {},
   "outputs": [
    {
     "name": "stderr",
     "output_type": "stream",
     "text": [
      "100%|██████████| 1/1 [00:01<00:00,  1.20s/it]\n"
     ]
    }
   ],
   "source": [
    "answer_similarity_output = answer_similarity.score(fiqa_eval['baseline'].select(range(4)))"
   ]
  },
  {
   "cell_type": "code",
   "execution_count": 36,
   "id": "4bd3f629",
   "metadata": {},
   "outputs": [
    {
     "data": {
      "text/html": [
       "<div>\n",
       "<style scoped>\n",
       "    .dataframe tbody tr th:only-of-type {\n",
       "        vertical-align: middle;\n",
       "    }\n",
       "\n",
       "    .dataframe tbody tr th {\n",
       "        vertical-align: top;\n",
       "    }\n",
       "\n",
       "    .dataframe thead th {\n",
       "        text-align: right;\n",
       "    }\n",
       "</style>\n",
       "<table border=\"1\" class=\"dataframe\">\n",
       "  <thead>\n",
       "    <tr style=\"text-align: right;\">\n",
       "      <th></th>\n",
       "      <th>question</th>\n",
       "      <th>ground_truths</th>\n",
       "      <th>answer</th>\n",
       "      <th>contexts</th>\n",
       "      <th>answer_similarity</th>\n",
       "    </tr>\n",
       "  </thead>\n",
       "  <tbody>\n",
       "    <tr>\n",
       "      <th>0</th>\n",
       "      <td>How to deposit a cheque issued to an associate...</td>\n",
       "      <td>[Have the check reissued to the proper payee.J...</td>\n",
       "      <td>\\nThe best way to deposit a cheque issued to a...</td>\n",
       "      <td>[Just have the associate sign the back and the...</td>\n",
       "      <td>0.524963</td>\n",
       "    </tr>\n",
       "    <tr>\n",
       "      <th>1</th>\n",
       "      <td>Can I send a money order from USPS as a business?</td>\n",
       "      <td>[Sure you can.  You can fill in whatever you w...</td>\n",
       "      <td>\\nYes, you can send a money order from USPS as...</td>\n",
       "      <td>[Sure you can.  You can fill in whatever you w...</td>\n",
       "      <td>0.526689</td>\n",
       "    </tr>\n",
       "    <tr>\n",
       "      <th>2</th>\n",
       "      <td>1 EIN doing business under multiple business n...</td>\n",
       "      <td>[You're confusing a lot of things here. Compan...</td>\n",
       "      <td>\\nYes, it is possible to have one EIN doing bu...</td>\n",
       "      <td>[You're confusing a lot of things here. Compan...</td>\n",
       "      <td>0.353534</td>\n",
       "    </tr>\n",
       "    <tr>\n",
       "      <th>3</th>\n",
       "      <td>Applying for and receiving business credit</td>\n",
       "      <td>[\"I'm afraid the great myth of limited liabili...</td>\n",
       "      <td>\\nApplying for and receiving business credit c...</td>\n",
       "      <td>[Set up a meeting with the bank that handles y...</td>\n",
       "      <td>0.772560</td>\n",
       "    </tr>\n",
       "  </tbody>\n",
       "</table>\n",
       "</div>"
      ],
      "text/plain": [
       "                                            question  \\\n",
       "0  How to deposit a cheque issued to an associate...   \n",
       "1  Can I send a money order from USPS as a business?   \n",
       "2  1 EIN doing business under multiple business n...   \n",
       "3         Applying for and receiving business credit   \n",
       "\n",
       "                                       ground_truths  \\\n",
       "0  [Have the check reissued to the proper payee.J...   \n",
       "1  [Sure you can.  You can fill in whatever you w...   \n",
       "2  [You're confusing a lot of things here. Compan...   \n",
       "3  [\"I'm afraid the great myth of limited liabili...   \n",
       "\n",
       "                                              answer  \\\n",
       "0  \\nThe best way to deposit a cheque issued to a...   \n",
       "1  \\nYes, you can send a money order from USPS as...   \n",
       "2  \\nYes, it is possible to have one EIN doing bu...   \n",
       "3  \\nApplying for and receiving business credit c...   \n",
       "\n",
       "                                            contexts  answer_similarity  \n",
       "0  [Just have the associate sign the back and the...           0.524963  \n",
       "1  [Sure you can.  You can fill in whatever you w...           0.526689  \n",
       "2  [You're confusing a lot of things here. Compan...           0.353534  \n",
       "3  [Set up a meeting with the bank that handles y...           0.772560  "
      ]
     },
     "execution_count": 36,
     "metadata": {},
     "output_type": "execute_result"
    }
   ],
   "source": [
    "answer_similarity_output.to_pandas()"
   ]
  },
  {
   "cell_type": "markdown",
   "id": "9f30a15e",
   "metadata": {},
   "source": [
    "## Answer Relevance"
   ]
  },
  {
   "cell_type": "markdown",
   "id": "b99a8b7b",
   "metadata": {},
   "source": [
    "The evaluation metric, Answer Relevancy, focuses on assessing how pertinent the generated answer is to the given prompt. A lower score is assigned to answers that are incomplete or contain redundant information. This metric is computed using the question and the answer, with values ranging between 0 and 1, where higher scores indicate better relevancy.\n",
    "\n",
    "An answer is deemed relevant when it directly and appropriately addresses the original question. Importantly, our assessment of answer relevance does not consider factuality but instead penalizes cases where the answer lacks completeness or contains redundant details. To calculate this score, the LLM is prompted to generate an appropriate question for the generated answer multiple times, and the mean cosine similarity between these generated questions and the original question is measured. The underlying idea is that if the generated answer accurately addresses the initial question, the LLM should be able to generate questions from the answer that align with the original question."
   ]
  },
  {
   "cell_type": "markdown",
   "id": "e67ae4df",
   "metadata": {},
   "source": [
    "**Question**: Where is France and what is it's capital?\n",
    "\n",
    "**Low relevance answer**: France is in western Europe.\n",
    "\n",
    "**High relevance answer**: France is in western Europe and Paris is its capital."
   ]
  },
  {
   "cell_type": "code",
   "execution_count": null,
   "id": "cdad3feb",
   "metadata": {},
   "outputs": [],
   "source": [
    "# get access to titan embedding model v1 before running\n",
    "answer_relevancy_output = answer_relevancy.score(fiqa_eval['baseline'].select(range(4)))"
   ]
  },
  {
   "cell_type": "code",
   "execution_count": null,
   "id": "454c0535",
   "metadata": {},
   "outputs": [],
   "source": [
    "answer_relevancy_output.to_pandas()"
   ]
  },
  {
   "cell_type": "markdown",
   "id": "3537d649",
   "metadata": {},
   "source": [
    "## Answer Correctness"
   ]
  },
  {
   "cell_type": "markdown",
   "id": "2980e14c",
   "metadata": {},
   "source": [
    "The assessment of Answer Correctness involves gauging the accuracy of the generated answer when compared to the ground truth. This evaluation relies on the ground truth and the answer, with scores ranging from 0 to 1. A higher score indicates a closer alignment between the generated answer and the ground truth, signifying better correctness.\n",
    "\n",
    "Answer correctness encompasses two critical aspects: semantic similarity between the generated answer and the ground truth, as well as factual similarity. These aspects are combined using a weighted scheme to formulate the answer correctness score. Users also have the option to employ a 'threshold' value to round the resulting score to binary, if desired."
   ]
  },
  {
   "cell_type": "markdown",
   "id": "20fa7bd6",
   "metadata": {},
   "source": [
    "**Ground truth**: Einstein was born in 1879 at Germany .\n",
    "\n",
    "**High answer correctness**: In 1879, in Germany, Einstein was born. \n",
    "\n",
    "**Low answer correctness**: In Spain, Einstein was born in 1879. "
   ]
  },
  {
   "cell_type": "code",
   "execution_count": 37,
   "id": "cc3f6640",
   "metadata": {},
   "outputs": [
    {
     "name": "stderr",
     "output_type": "stream",
     "text": [
      "100%|██████████| 1/1 [01:01<00:00, 61.01s/it]\n"
     ]
    }
   ],
   "source": [
    "answer_correctness_output = answer_correctness.score(fiqa_eval['baseline'].select(range(4)))"
   ]
  },
  {
   "cell_type": "code",
   "execution_count": 39,
   "id": "7cbd7096",
   "metadata": {},
   "outputs": [
    {
     "data": {
      "text/html": [
       "<div>\n",
       "<style scoped>\n",
       "    .dataframe tbody tr th:only-of-type {\n",
       "        vertical-align: middle;\n",
       "    }\n",
       "\n",
       "    .dataframe tbody tr th {\n",
       "        vertical-align: top;\n",
       "    }\n",
       "\n",
       "    .dataframe thead th {\n",
       "        text-align: right;\n",
       "    }\n",
       "</style>\n",
       "<table border=\"1\" class=\"dataframe\">\n",
       "  <thead>\n",
       "    <tr style=\"text-align: right;\">\n",
       "      <th></th>\n",
       "      <th>question</th>\n",
       "      <th>ground_truths</th>\n",
       "      <th>answer</th>\n",
       "      <th>contexts</th>\n",
       "      <th>answer_correctness</th>\n",
       "    </tr>\n",
       "  </thead>\n",
       "  <tbody>\n",
       "    <tr>\n",
       "      <th>0</th>\n",
       "      <td>How to deposit a cheque issued to an associate...</td>\n",
       "      <td>[Have the check reissued to the proper payee.J...</td>\n",
       "      <td>\\nThe best way to deposit a cheque issued to a...</td>\n",
       "      <td>[Just have the associate sign the back and the...</td>\n",
       "      <td>0.429148</td>\n",
       "    </tr>\n",
       "    <tr>\n",
       "      <th>1</th>\n",
       "      <td>Can I send a money order from USPS as a business?</td>\n",
       "      <td>[Sure you can.  You can fill in whatever you w...</td>\n",
       "      <td>\\nYes, you can send a money order from USPS as...</td>\n",
       "      <td>[Sure you can.  You can fill in whatever you w...</td>\n",
       "      <td>0.763345</td>\n",
       "    </tr>\n",
       "    <tr>\n",
       "      <th>2</th>\n",
       "      <td>1 EIN doing business under multiple business n...</td>\n",
       "      <td>[You're confusing a lot of things here. Compan...</td>\n",
       "      <td>\\nYes, it is possible to have one EIN doing bu...</td>\n",
       "      <td>[You're confusing a lot of things here. Compan...</td>\n",
       "      <td>0.676767</td>\n",
       "    </tr>\n",
       "    <tr>\n",
       "      <th>3</th>\n",
       "      <td>Applying for and receiving business credit</td>\n",
       "      <td>[\"I'm afraid the great myth of limited liabili...</td>\n",
       "      <td>\\nApplying for and receiving business credit c...</td>\n",
       "      <td>[Set up a meeting with the bank that handles y...</td>\n",
       "      <td>0.886280</td>\n",
       "    </tr>\n",
       "  </tbody>\n",
       "</table>\n",
       "</div>"
      ],
      "text/plain": [
       "                                            question  \\\n",
       "0  How to deposit a cheque issued to an associate...   \n",
       "1  Can I send a money order from USPS as a business?   \n",
       "2  1 EIN doing business under multiple business n...   \n",
       "3         Applying for and receiving business credit   \n",
       "\n",
       "                                       ground_truths  \\\n",
       "0  [Have the check reissued to the proper payee.J...   \n",
       "1  [Sure you can.  You can fill in whatever you w...   \n",
       "2  [You're confusing a lot of things here. Compan...   \n",
       "3  [\"I'm afraid the great myth of limited liabili...   \n",
       "\n",
       "                                              answer  \\\n",
       "0  \\nThe best way to deposit a cheque issued to a...   \n",
       "1  \\nYes, you can send a money order from USPS as...   \n",
       "2  \\nYes, it is possible to have one EIN doing bu...   \n",
       "3  \\nApplying for and receiving business credit c...   \n",
       "\n",
       "                                            contexts  answer_correctness  \n",
       "0  [Just have the associate sign the back and the...            0.429148  \n",
       "1  [Sure you can.  You can fill in whatever you w...            0.763345  \n",
       "2  [You're confusing a lot of things here. Compan...            0.676767  \n",
       "3  [Set up a meeting with the bank that handles y...            0.886280  "
      ]
     },
     "execution_count": 39,
     "metadata": {},
     "output_type": "execute_result"
    }
   ],
   "source": [
    "answer_correctness_output.to_pandas()"
   ]
  }
 ],
 "metadata": {
  "kernelspec": {
   "display_name": "conda_python3",
   "language": "python",
   "name": "conda_python3"
  },
  "language_info": {
   "codemirror_mode": {
    "name": "ipython",
    "version": 3
   },
   "file_extension": ".py",
   "mimetype": "text/x-python",
   "name": "python",
   "nbconvert_exporter": "python",
   "pygments_lexer": "ipython3",
   "version": "3.10.13"
  }
 },
 "nbformat": 4,
 "nbformat_minor": 5
}
