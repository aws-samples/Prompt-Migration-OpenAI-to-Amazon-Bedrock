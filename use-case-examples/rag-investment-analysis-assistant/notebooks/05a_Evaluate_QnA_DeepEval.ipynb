{
	"cells": [
		{
			"cell_type": "markdown",
			"id": "c9d983a4-bd2a-42c4-96d2-741b9cc0475d",
			"metadata": {},
			"source": [
				"# DeepEval Evalutation Framework"
			]
		},
		{
			"cell_type": "markdown",
			"id": "a8e676d3",
			"metadata": {},
			"source": [
				"Licensed under the Apache License, Version 2.0 (the \"License\");\n",
				"you may not use this file except in compliance with the License.\n",
				"You may obtain a copy of the License at\n",
				"\n",
				"http://www.apache.org/licenses/LICENSE-2.0\n",
				"\n",
				"Unless required by applicable law or agreed to in writing, software distributed under the License is distributed on an \"AS IS\" BASIS,\n",
				"WITHOUT WARRANTIES OR CONDITIONS OF ANY KIND, either express or implied.\n",
				"See the License for the specific language governing permissions and limitations under the License.\n",
				"\n",
				"Copyright 2024 Amazon Web Services, Inc."
			]
		},
		{
			"cell_type": "markdown",
			"id": "9c10ba5c-5361-4475-b707-724e7950acb8",
			"metadata": {},
			"source": [
				"![OVERALL FLOW PROCESS](../images/workflow.png)"
			]
		},
		{
			"cell_type": "markdown",
			"id": "14fd687d-dd27-4463-ab3b-aa91c725f706",
			"metadata": {},
			"source": [
				"In this notebook, we will evaluate the the sample output from the LLM for RAG use case using DeepEval. DeepEval is a simple-to-use, open-source LLM evaluation framework. It is similar to Pytest but specialized for unit testing LLM outputs. DeepEval incorporates the latest research to evaluate LLM outputs based on metrics such as G-Eval, hallucination, answer relevancy, RAGAS, etc., which uses LLMs and various other NLP models that runs locally on your machine for evaluation.\n",
				"\n",
				"Whether your application is implemented via RAG or fine-tuning, LangChain or LlamaIndex, DeepEval has you covered. With it, you can easily determine the optimal hyperparameters to improve your RAG pipeline, prevent prompt drifting, or even transition from OpenAI to hosting your own Llama2 with confidence."
			]
		},
		{
			"cell_type": "markdown",
			"id": "5d711eb4",
			"metadata": {},
			"source": [
				"## Install Requirements"
			]
		},
		{
			"cell_type": "code",
			"execution_count": 1,
			"id": "9dd3ea94",
			"metadata": {
				"scrolled": true,
				"tags": []
			},
			"outputs": [],
			"source": [
				"# Install from public library\n",
				"!pip install deepeval==0.21.32 --quiet\n",
				"#!pip install -U deepeval --quiet"
			]
		},
		{
			"cell_type": "code",
			"execution_count": 2,
			"id": "1c062e65-dd32-4ddf-97ac-eade0e368d55",
			"metadata": {
				"tags": []
			},
			"outputs": [
				{
					"name": "stdout",
					"output_type": "stream",
					"text": [
						"\u001b[31mERROR: pip's dependency resolver does not currently take into account all the packages that are installed. This behaviour is the source of the following dependency conflicts.\n",
						"langchain 0.1.9 requires langchain-core<0.2,>=0.1.26, but you have langchain-core 0.3.12 which is incompatible.\n",
						"langchain-aws 0.1.6 requires boto3<1.35.0,>=1.34.51, but you have boto3 1.33.9 which is incompatible.\n",
						"langchain-aws 0.1.6 requires langchain-core<0.3,>=0.1.45, but you have langchain-core 0.3.12 which is incompatible.\n",
						"langchain-community 0.0.38 requires langchain-core<0.2.0,>=0.1.52, but you have langchain-core 0.3.12 which is incompatible.\n",
						"langchain-openai 0.1.7 requires langchain-core<0.3,>=0.1.46, but you have langchain-core 0.3.12 which is incompatible.\u001b[0m\u001b[31m\n",
						"\u001b[0m"
					]
				}
			],
			"source": [
				"!pip install langchain_text_splitters --quiet"
			]
		},
		{
			"cell_type": "code",
			"execution_count": 3,
			"id": "c6e68aac-6ad9-4245-afff-c1c2a1a4ad53",
			"metadata": {
				"tags": []
			},
			"outputs": [
				{
					"name": "stdout",
					"output_type": "stream",
					"text": [
						"\u001b[31mERROR: pip's dependency resolver does not currently take into account all the packages that are installed. This behaviour is the source of the following dependency conflicts.\n",
						"aiobotocore 2.13.1 requires botocore<1.34.132,>=1.34.70, but you have botocore 1.34.162 which is incompatible.\n",
						"amazon-sagemaker-sql-magic 0.1.3 requires sqlparse==0.5.0, but you have sqlparse 0.5.1 which is incompatible.\n",
						"autogluon-common 0.8.3 requires pandas<1.6,>=1.4.1, but you have pandas 2.1.4 which is incompatible.\n",
						"autogluon-core 0.8.3 requires pandas<1.6,>=1.4.1, but you have pandas 2.1.4 which is incompatible.\n",
						"autogluon-core 0.8.3 requires scikit-learn<1.4.1,>=1.1, but you have scikit-learn 1.4.2 which is incompatible.\n",
						"autogluon-features 0.8.3 requires pandas<1.6,>=1.4.1, but you have pandas 2.1.4 which is incompatible.\n",
						"autogluon-features 0.8.3 requires scikit-learn<1.4.1,>=1.1, but you have scikit-learn 1.4.2 which is incompatible.\n",
						"autogluon-multimodal 0.8.3 requires pandas<1.6,>=1.4.1, but you have pandas 2.1.4 which is incompatible.\n",
						"autogluon-multimodal 0.8.3 requires Pillow<11,>=10.2, but you have pillow 9.4.0 which is incompatible.\n",
						"autogluon-multimodal 0.8.3 requires pytorch-lightning<1.10.0,>=1.9.0, but you have pytorch-lightning 2.0.9 which is incompatible.\n",
						"autogluon-multimodal 0.8.3 requires scikit-learn<1.4.1,>=1.1, but you have scikit-learn 1.4.2 which is incompatible.\n",
						"autogluon-multimodal 0.8.3 requires torch<1.14,>=1.9, but you have torch 2.0.0.post104 which is incompatible.\n",
						"autogluon-multimodal 0.8.3 requires torchmetrics<0.12.0,>=0.11.0, but you have torchmetrics 1.0.3 which is incompatible.\n",
						"autogluon-multimodal 0.8.3 requires torchvision<0.15.0, but you have torchvision 0.15.2a0+ab7b3e6 which is incompatible.\n",
						"autogluon-multimodal 0.8.3 requires transformers[sentencepiece]<4.41.0,>=4.36.0, but you have transformers 4.45.2 which is incompatible.\n",
						"autogluon-tabular 0.8.3 requires pandas<1.6,>=1.4.1, but you have pandas 2.1.4 which is incompatible.\n",
						"autogluon-tabular 0.8.3 requires scikit-learn<1.4.1,>=1.1, but you have scikit-learn 1.4.2 which is incompatible.\n",
						"autogluon-timeseries 0.8.3 requires pandas<1.6,>=1.4.1, but you have pandas 2.1.4 which is incompatible.\n",
						"autogluon-timeseries 0.8.3 requires pytorch-lightning<1.10.0,>=1.7.4, but you have pytorch-lightning 2.0.9 which is incompatible.\n",
						"autogluon-timeseries 0.8.3 requires torch<1.14,>=1.9, but you have torch 2.0.0.post104 which is incompatible.\n",
						"langchain 0.1.9 requires langchain-core<0.2,>=0.1.26, but you have langchain-core 0.2.41 which is incompatible.\n",
						"langchain-community 0.0.38 requires langchain-core<0.2.0,>=0.1.52, but you have langchain-core 0.2.41 which is incompatible.\n",
						"langchain-text-splitters 0.3.0 requires langchain-core<0.4.0,>=0.3.0, but you have langchain-core 0.2.41 which is incompatible.\n",
						"ragas 0.0.0 requires boto3==1.33.9, but you have boto3 1.34.162 which is incompatible.\n",
						"ragas 0.0.0 requires botocore==1.33.9, but you have botocore 1.34.162 which is incompatible.\n",
						"sagemaker 2.224.4 requires importlib-metadata<7.0,>=1.4.0, but you have importlib-metadata 7.0.2 which is incompatible.\n",
						"sagemaker-jupyterlab-extension-common 0.1.18 requires pydantic==1.*, but you have pydantic 2.7.3 which is incompatible.\u001b[0m\u001b[31m\n",
						"\u001b[0m"
					]
				}
			],
			"source": [
				"!pip install langchain_aws==0.1.6 --quiet"
			]
		},
		{
			"cell_type": "markdown",
			"id": "c60d9710-88b0-4ebc-b5ac-ee2dcb5e385c",
			"metadata": {},
			"source": [
				"Users can ignore the installation error messages for the packages version if there's any."
			]
		},
		{
			"cell_type": "markdown",
			"id": "a9b0e774",
			"metadata": {},
			"source": [
				"## Import Libraries"
			]
		},
		{
			"cell_type": "code",
			"execution_count": 4,
			"id": "0985af11",
			"metadata": {
				"tags": []
			},
			"outputs": [],
			"source": [
				"import pandas as pd\n",
				"import sys\n",
				"from langchain_aws import ChatBedrock\n",
				"from datasets import Dataset\n",
				"from ast import literal_eval\n",
				"from botocore.client import Config"
			]
		},
		{
			"cell_type": "code",
			"execution_count": 5,
			"id": "c5f85d68-90f7-4d8e-bb94-655d6ae053cc",
			"metadata": {
				"tags": []
			},
			"outputs": [],
			"source": [
				"AWS_REGION = \"us-west-2\""
			]
		},
		{
			"cell_type": "code",
			"execution_count": 6,
			"id": "8f242eb7",
			"metadata": {
				"tags": []
			},
			"outputs": [
				{
					"name": "stderr",
					"output_type": "stream",
					"text": [
						"/opt/conda/lib/python3.10/site-packages/deepeval/__init__.py:41: UserWarning: You are using deepeval version 0.21.32, however version 1.4.4 is available. You should consider upgrading via the \"pip install --upgrade deepeval\" command.\n",
						"  warnings.warn(\n"
					]
				}
			],
			"source": [
				"# Import DeepEval Libraries\n",
				"from deepeval.models.base_model import DeepEvalBaseLLM\n",
				"\n",
				"from deepeval.metrics import AnswerRelevancyMetric\n",
				"from deepeval.metrics import FaithfulnessMetric\n",
				"from deepeval.metrics import BiasMetric\n",
				"from deepeval.metrics import ToxicityMetric\n",
				"\n",
				"from deepeval import evaluate\n",
				"from deepeval.dataset import EvaluationDataset\n"
			]
		},
		{
			"cell_type": "markdown",
			"id": "b4081d6d-3c52-4394-9f41-ce783ee9f060",
			"metadata": {},
			"source": [
				"## Load and pre-process the samples for evaluation"
			]
		},
		{
			"cell_type": "markdown",
			"id": "e8d42eaf-409b-4bcd-ae1a-8118f3a8c590",
			"metadata": {},
			"source": [
				"#### Load the samples\n",
				"We are using a sample data file stored in '../data/inputs/'. If you wish to bring in your own data, please store the data in .csv file under '../../outputs/rag/rag_outputs' directory and ensure the schema is following the format that includes the exact columns in the csv file, ie. question, ground_truth, llm_answer, llm_contexts...."
			]
		},
		{
			"cell_type": "markdown",
			"id": "c6af1293-f977-4c54-bdb5-18b5bb60b175",
			"metadata": {},
			"source": [
				"There are RAG output results with different models: output_openai.csv/output_claude.csv/output_mistral.csv ready to be evaluated, the output files from RAG are stored under ../../outputs/rag/rag_outputs .\n",
				"To run through this notebook, please input the desired model name that needs to be evaluated in this notebook:"
			]
		},
		{
			"cell_type": "code",
			"execution_count": 7,
			"id": "c717d4f6-2d2b-47e6-9c4b-518d3cda261e",
			"metadata": {
				"tags": []
			},
			"outputs": [
				{
					"name": "stdout",
					"output_type": "stream",
					"text": [
						"../outputs/rag_outputs/output_claude.csv\n"
					]
				}
			],
			"source": [
				"# src model\n",
				"# model_output = \"mistral\"\n",
				"# model_output=\"openai\"\n",
				"model_output = \"claude\"\n",
				"result_csv_file = (\n",
				"    f\"../outputs/rag_outputs/output_\" + model_output + \".csv\"\n",
				")  # change filename to the one that needs to be evaluated\n",
				"print(result_csv_file)"
			]
		},
		{
			"cell_type": "code",
			"execution_count": 8,
			"id": "ff0b2788-4edc-4c26-946c-7ebcefcfdc92",
			"metadata": {
				"tags": []
			},
			"outputs": [
				{
					"data": {
						"text/html": [
							"<div>\n",
							"<style scoped>\n",
							"    .dataframe tbody tr th:only-of-type {\n",
							"        vertical-align: middle;\n",
							"    }\n",
							"\n",
							"    .dataframe tbody tr th {\n",
							"        vertical-align: top;\n",
							"    }\n",
							"\n",
							"    .dataframe thead th {\n",
							"        text-align: right;\n",
							"    }\n",
							"</style>\n",
							"<table border=\"1\" class=\"dataframe\">\n",
							"  <thead>\n",
							"    <tr style=\"text-align: right;\">\n",
							"      <th></th>\n",
							"      <th>doc_name</th>\n",
							"      <th>doc_link</th>\n",
							"      <th>doc_period</th>\n",
							"      <th>question_type</th>\n",
							"      <th>question</th>\n",
							"      <th>ground_truths</th>\n",
							"      <th>evidence_text</th>\n",
							"      <th>page_number</th>\n",
							"      <th>llm_answer</th>\n",
							"      <th>llm_contexts</th>\n",
							"      <th>latency_meta_time</th>\n",
							"      <th>latency_meta_kwd</th>\n",
							"      <th>latency_meta_comb</th>\n",
							"      <th>latency_meta_ans_gen</th>\n",
							"      <th>input_tokens</th>\n",
							"      <th>output_tokens</th>\n",
							"    </tr>\n",
							"    <tr>\n",
							"      <th>financebench_id</th>\n",
							"      <th></th>\n",
							"      <th></th>\n",
							"      <th></th>\n",
							"      <th></th>\n",
							"      <th></th>\n",
							"      <th></th>\n",
							"      <th></th>\n",
							"      <th></th>\n",
							"      <th></th>\n",
							"      <th></th>\n",
							"      <th></th>\n",
							"      <th></th>\n",
							"      <th></th>\n",
							"      <th></th>\n",
							"      <th></th>\n",
							"      <th></th>\n",
							"    </tr>\n",
							"  </thead>\n",
							"  <tbody>\n",
							"    <tr>\n",
							"      <th>financebench_id_03029</th>\n",
							"      <td>3M_2018_10K</td>\n",
							"      <td>https://investors.3m.com/financials/sec-filing...</td>\n",
							"      <td>2018</td>\n",
							"      <td>metrics-generated</td>\n",
							"      <td>What is the FY2018 capital expenditure amount ...</td>\n",
							"      <td>['$1577.00']</td>\n",
							"      <td>Table of Contents \\n3M Company and Subsidiarie...</td>\n",
							"      <td>60</td>\n",
							"      <td>According to the cash flow statement in the 3M...</td>\n",
							"      <td>['&lt;&lt;Paragraph&gt;&gt; [Source File: 3M_2018_10K] \\n ...</td>\n",
							"      <td>0.927055</td>\n",
							"      <td>0.606658</td>\n",
							"      <td>1.448762</td>\n",
							"      <td>2.483714</td>\n",
							"      <td>21147</td>\n",
							"      <td>401</td>\n",
							"    </tr>\n",
							"    <tr>\n",
							"      <th>financebench_id_00499</th>\n",
							"      <td>3M_2022_10K</td>\n",
							"      <td>https://investors.3m.com/financials/sec-filing...</td>\n",
							"      <td>2022</td>\n",
							"      <td>domain-relevant</td>\n",
							"      <td>Is 3M a capital-intensive business based on FY...</td>\n",
							"      <td>['No, the company is managing its CAPEX and Fi...</td>\n",
							"      <td>3M Company and Subsidiaries\\n Consolidated Sta...</td>\n",
							"      <td>48,50,52</td>\n",
							"      <td>Based on the financial information provided in...</td>\n",
							"      <td>['&lt;&lt;Paragraph&gt;&gt; [Source File: 3M_2022_10K] \\n ...</td>\n",
							"      <td>0.714294</td>\n",
							"      <td>0.503733</td>\n",
							"      <td>1.938756</td>\n",
							"      <td>5.232772</td>\n",
							"      <td>23180</td>\n",
							"      <td>635</td>\n",
							"    </tr>\n",
							"    <tr>\n",
							"      <th>financebench_id_00438</th>\n",
							"      <td>ADOBE_2022_10K</td>\n",
							"      <td>https://www.adobe.com/pdf-page.html?pdfTarget=...</td>\n",
							"      <td>2022</td>\n",
							"      <td>domain-relevant</td>\n",
							"      <td>Does Adobe have an improving operating margin ...</td>\n",
							"      <td>['No the operating margins of Adobe have recen...</td>\n",
							"      <td>ADOBE INC.\\nCONSOLIDATED STATEMENTS OF INCOME\\...</td>\n",
							"      <td>54</td>\n",
							"      <td>Based on the financial information provided in...</td>\n",
							"      <td>['&lt;&lt;Paragraph&gt;&gt; [Source File: ADOBE_2022_10K] ...</td>\n",
							"      <td>0.774023</td>\n",
							"      <td>3.742355</td>\n",
							"      <td>1.554743</td>\n",
							"      <td>4.361795</td>\n",
							"      <td>13324</td>\n",
							"      <td>1038</td>\n",
							"    </tr>\n",
							"    <tr>\n",
							"      <th>financebench_id_00591</th>\n",
							"      <td>ADOBE_2022_10K</td>\n",
							"      <td>https://www.adobe.com/pdf-page.html?pdfTarget=...</td>\n",
							"      <td>2022</td>\n",
							"      <td>novel-generated</td>\n",
							"      <td>Does Adobe have an improving Free cashflow con...</td>\n",
							"      <td>['Yes, the FCF conversion (using net income as...</td>\n",
							"      <td>ADOBE INC.\\n CONSOLIDATED STATEMENTS OF CASH F...</td>\n",
							"      <td>57</td>\n",
							"      <td>Based on the financial information provided in...</td>\n",
							"      <td>['&lt;&lt;Paragraph&gt;&gt; [Source File: ADOBE_2022_10K] ...</td>\n",
							"      <td>0.891798</td>\n",
							"      <td>0.576164</td>\n",
							"      <td>1.379593</td>\n",
							"      <td>3.781731</td>\n",
							"      <td>12957</td>\n",
							"      <td>526</td>\n",
							"    </tr>\n",
							"    <tr>\n",
							"      <th>financebench_id_03069</th>\n",
							"      <td>AMD_2015_10K</td>\n",
							"      <td>https://ir.amd.com/sec-filings/filter/annual-f...</td>\n",
							"      <td>2015</td>\n",
							"      <td>metrics-generated</td>\n",
							"      <td>Answer the following question as if you are an...</td>\n",
							"      <td>['4.2%']</td>\n",
							"      <td>ITEM 8.\\nFINANCIAL STATEMENTS AND SUPPLEMENTAR...</td>\n",
							"      <td>56,60</td>\n",
							"      <td>According to the details in the Profit and Los...</td>\n",
							"      <td>['&lt;&lt;Paragraph&gt;&gt; [Source File: AMD_2015_10K] \\n...</td>\n",
							"      <td>0.821045</td>\n",
							"      <td>0.420084</td>\n",
							"      <td>1.686061</td>\n",
							"      <td>2.925910</td>\n",
							"      <td>24266</td>\n",
							"      <td>494</td>\n",
							"    </tr>\n",
							"  </tbody>\n",
							"</table>\n",
							"</div>"
						],
						"text/plain": [
							"                             doc_name  \\\n",
							"financebench_id                         \n",
							"financebench_id_03029     3M_2018_10K   \n",
							"financebench_id_00499     3M_2022_10K   \n",
							"financebench_id_00438  ADOBE_2022_10K   \n",
							"financebench_id_00591  ADOBE_2022_10K   \n",
							"financebench_id_03069    AMD_2015_10K   \n",
							"\n",
							"                                                                doc_link  \\\n",
							"financebench_id                                                            \n",
							"financebench_id_03029  https://investors.3m.com/financials/sec-filing...   \n",
							"financebench_id_00499  https://investors.3m.com/financials/sec-filing...   \n",
							"financebench_id_00438  https://www.adobe.com/pdf-page.html?pdfTarget=...   \n",
							"financebench_id_00591  https://www.adobe.com/pdf-page.html?pdfTarget=...   \n",
							"financebench_id_03069  https://ir.amd.com/sec-filings/filter/annual-f...   \n",
							"\n",
							"                       doc_period      question_type  \\\n",
							"financebench_id                                        \n",
							"financebench_id_03029        2018  metrics-generated   \n",
							"financebench_id_00499        2022    domain-relevant   \n",
							"financebench_id_00438        2022    domain-relevant   \n",
							"financebench_id_00591        2022    novel-generated   \n",
							"financebench_id_03069        2015  metrics-generated   \n",
							"\n",
							"                                                                question  \\\n",
							"financebench_id                                                            \n",
							"financebench_id_03029  What is the FY2018 capital expenditure amount ...   \n",
							"financebench_id_00499  Is 3M a capital-intensive business based on FY...   \n",
							"financebench_id_00438  Does Adobe have an improving operating margin ...   \n",
							"financebench_id_00591  Does Adobe have an improving Free cashflow con...   \n",
							"financebench_id_03069  Answer the following question as if you are an...   \n",
							"\n",
							"                                                           ground_truths  \\\n",
							"financebench_id                                                            \n",
							"financebench_id_03029                                       ['$1577.00']   \n",
							"financebench_id_00499  ['No, the company is managing its CAPEX and Fi...   \n",
							"financebench_id_00438  ['No the operating margins of Adobe have recen...   \n",
							"financebench_id_00591  ['Yes, the FCF conversion (using net income as...   \n",
							"financebench_id_03069                                           ['4.2%']   \n",
							"\n",
							"                                                           evidence_text  \\\n",
							"financebench_id                                                            \n",
							"financebench_id_03029  Table of Contents \\n3M Company and Subsidiarie...   \n",
							"financebench_id_00499  3M Company and Subsidiaries\\n Consolidated Sta...   \n",
							"financebench_id_00438  ADOBE INC.\\nCONSOLIDATED STATEMENTS OF INCOME\\...   \n",
							"financebench_id_00591  ADOBE INC.\\n CONSOLIDATED STATEMENTS OF CASH F...   \n",
							"financebench_id_03069  ITEM 8.\\nFINANCIAL STATEMENTS AND SUPPLEMENTAR...   \n",
							"\n",
							"                      page_number  \\\n",
							"financebench_id                     \n",
							"financebench_id_03029          60   \n",
							"financebench_id_00499    48,50,52   \n",
							"financebench_id_00438          54   \n",
							"financebench_id_00591          57   \n",
							"financebench_id_03069       56,60   \n",
							"\n",
							"                                                              llm_answer  \\\n",
							"financebench_id                                                            \n",
							"financebench_id_03029  According to the cash flow statement in the 3M...   \n",
							"financebench_id_00499  Based on the financial information provided in...   \n",
							"financebench_id_00438  Based on the financial information provided in...   \n",
							"financebench_id_00591  Based on the financial information provided in...   \n",
							"financebench_id_03069  According to the details in the Profit and Los...   \n",
							"\n",
							"                                                            llm_contexts  \\\n",
							"financebench_id                                                            \n",
							"financebench_id_03029  ['<<Paragraph>> [Source File: 3M_2018_10K] \\n ...   \n",
							"financebench_id_00499  ['<<Paragraph>> [Source File: 3M_2022_10K] \\n ...   \n",
							"financebench_id_00438  ['<<Paragraph>> [Source File: ADOBE_2022_10K] ...   \n",
							"financebench_id_00591  ['<<Paragraph>> [Source File: ADOBE_2022_10K] ...   \n",
							"financebench_id_03069  ['<<Paragraph>> [Source File: AMD_2015_10K] \\n...   \n",
							"\n",
							"                       latency_meta_time  latency_meta_kwd  latency_meta_comb  \\\n",
							"financebench_id                                                                 \n",
							"financebench_id_03029           0.927055          0.606658           1.448762   \n",
							"financebench_id_00499           0.714294          0.503733           1.938756   \n",
							"financebench_id_00438           0.774023          3.742355           1.554743   \n",
							"financebench_id_00591           0.891798          0.576164           1.379593   \n",
							"financebench_id_03069           0.821045          0.420084           1.686061   \n",
							"\n",
							"                       latency_meta_ans_gen  input_tokens  output_tokens  \n",
							"financebench_id                                                           \n",
							"financebench_id_03029              2.483714         21147            401  \n",
							"financebench_id_00499              5.232772         23180            635  \n",
							"financebench_id_00438              4.361795         13324           1038  \n",
							"financebench_id_00591              3.781731         12957            526  \n",
							"financebench_id_03069              2.925910         24266            494  "
						]
					},
					"execution_count": 8,
					"metadata": {},
					"output_type": "execute_result"
				}
			],
			"source": [
				"#result_csv_file ='../data/inputs/output_mistral.csv'\n",
				"\n",
				"#load csv sample file\n",
				"input_dataset = pd.read_csv(result_csv_file, index_col=0)\n",
				"\n",
				"input_dataset.head()"
			]
		},
		{
			"cell_type": "markdown",
			"id": "221fbcd4",
			"metadata": {},
			"source": [
				"### Instantiate Bedrock Class - Inherits DeepEvalClass"
			]
		},
		{
			"cell_type": "code",
			"execution_count": 9,
			"id": "11c2d950",
			"metadata": {
				"tags": []
			},
			"outputs": [
				{
					"name": "stdout",
					"output_type": "stream",
					"text": [
						"Here's a joke for you:\n",
						"\n",
						"Why can't a bicycle stand up by itself? It's two-tired!\n"
					]
				}
			],
			"source": [
				"class AWSBedrock(DeepEvalBaseLLM):\n",
				"    def __init__(\n",
				"        self,\n",
				"        model\n",
				"    ):\n",
				"        self.model = model\n",
				"\n",
				"    def load_model(self):\n",
				"        return self.model\n",
				"\n",
				"    def generate(self, prompt: str) -> str:\n",
				"        chat_model = self.load_model()\n",
				"        try: \n",
				"            return chat_model.invoke(prompt).content\n",
				"        except: \n",
				"            print(\"Issue with Invoke\")\n",
				"            return self.generate(prompt)\n",
				"\n",
				"    async def a_generate(self, prompt: str) -> str:\n",
				"        chat_model = self.load_model()\n",
				"        try: \n",
				"            res = await chat_model.ainvoke(prompt)\n",
				"            return res.content\n",
				"        except: \n",
				"            print(\"Issue with Invoke\")\n",
				"            return await self.a_generate(prompt)\n",
				"\n",
				"    def get_model_name(self):\n",
				"        return \"Bedrock Model\"\n",
				"\n",
				"# Use of Claude 3 Sonnet\n",
				"custom_model = ChatBedrock(\n",
				"    #credentials_profile_name=\"default\", # e.g. \"default\"\n",
				"    region_name=AWS_REGION, # e.g. \"us-east-1\"\n",
				"    endpoint_url=f\"https://bedrock-runtime.{AWS_REGION}.amazonaws.com\", # e.g. \"https://bedrock-runtime.us-east-1.amazonaws.com\"\n",
				"    model_id='anthropic.claude-3-sonnet-20240229-v1:0', # e.g. \"anthropic.claude-v2:1\"\n",
				"    model_kwargs={\"temperature\": 0.4},\n",
				")\n",
				"\n",
				"aws_bedrock = AWSBedrock(model=custom_model)\n",
				"print(aws_bedrock.generate(\"Write me a joke\"))"
			]
		},
		{
			"cell_type": "markdown",
			"id": "93bad5ba",
			"metadata": {},
			"source": [
				"For deep eval, context is the ideal context which typically comes from the evaluation dataset. However, retrieval context is the actual context that is being retrieved at runtime. So you could say that the context is a \"ground truth\" context while the retrieval context is the actual context. "
			]
		},
		{
			"cell_type": "code",
			"execution_count": 10,
			"id": "a8db814a",
			"metadata": {
				"tags": []
			},
			"outputs": [],
			"source": [
				"def get_deep_eval(questions, answers, contexts, gts, metrics): \n",
				"    data = {\n",
				"        'question': questions,\n",
				"        'answer': answers,\n",
				"        'contexts': contexts, \n",
				"        'ground_truths': gts\n",
				"    }\n",
				"    # Create DataFrame\n",
				"    df = pd.DataFrame(data)\n",
				"    df.to_csv(\"input.csv\", index=False)\n",
				"    \n",
				"    dataset = EvaluationDataset()\n",
				"    dataset.add_test_cases_from_csv_file(\n",
				"            file_path='input.csv',\n",
				"            input_col_name='question',\n",
				"            actual_output_col_name='answer',\n",
				"            expected_output_col_name='ground_truths',\n",
				"            context_col_name='contexts',\n",
				"        )\n",
				"\n",
				"    result = evaluate(dataset, metrics, print_results=False)\n",
				"    return result"
			]
		},
		{
			"cell_type": "markdown",
			"id": "1f5d4e7c-731c-4aff-a06b-f951b5fa4882",
			"metadata": {},
			"source": [
				"## Metrics in DeepEval for evaluation"
			]
		},
		{
			"cell_type": "markdown",
			"id": "fcc971b4-3f73-456b-ae8b-0787ca14abea",
			"metadata": {},
			"source": [
				"In deepeval, a metric serves as a standard of measurement for evaluating the performance of an LLM output based on a specific criteria of interest. Essentially, while the metric acts as the ruler, a test case represents the thing you're trying to measure. Deepeval offers a range of default metrics for you to quickly get started with. Here, we are picking Answer Relevancy, Faithfulness, Bias, Toxicity as the metrics to evaluate question-answer use case.\n",
				"\n",
				"- Answer Relevancy: The answer relevancy metric measures the quality of your RAG pipeline's generator by evaluating how relevant the actual_output of your LLM application is compared to the provided input.\n",
				"- Faithfulness: The faithfulness metric measures the quality of your RAG pipeline's generator by evaluating whether the actual_output factually aligns with the contents of your retrieval_context.\n",
				"- Toxicity: The toxicity metric is another referenceless metric that evaluates toxicness in your LLM outputs. \n",
				"- Bias: The bias metric determines whether your LLM output contains gender, racial, or political bias. "
			]
		},
		{
			"cell_type": "markdown",
			"id": "6a4543fe-ae4c-444a-9a57-0dd20dd312f0",
			"metadata": {},
			"source": [
				"### Define metrics for evaluation and run DeepEval Evalution for the input dataset"
			]
		},
		{
			"cell_type": "markdown",
			"id": "de4f8ca2-8af0-41d5-93f2-2fb9d3f3eaa2",
			"metadata": {},
			"source": [
				"Here we are using Answer Relevancy,Faithfulness, Bias, Toxicity as the metrics to evaluate question-answer use case.\n"
			]
		},
		{
			"cell_type": "code",
			"execution_count": 11,
			"id": "f02665c4",
			"metadata": {
				"scrolled": true,
				"tags": []
			},
			"outputs": [
				{
					"data": {
						"application/vnd.jupyter.widget-view+json": {
							"model_id": "9de6d92417804d23b101df3c1aa3a594",
							"version_major": 2,
							"version_minor": 0
						},
						"text/plain": [
							"Output()"
						]
					},
					"metadata": {},
					"output_type": "display_data"
				},
				{
					"name": "stdout",
					"output_type": "stream",
					"text": [
						"Event loop is already running. Applying nest_asyncio patch to allow async execution...\n"
					]
				},
				{
					"data": {
						"text/html": [
							"<pre style=\"white-space:pre;overflow-x:auto;line-height:normal;font-family:Menlo,'DejaVu Sans Mono',consolas,'Courier New',monospace\"></pre>\n"
						],
						"text/plain": []
					},
					"metadata": {},
					"output_type": "display_data"
				},
				{
					"data": {
						"text/html": [
							"<pre style=\"white-space:pre;overflow-x:auto;line-height:normal;font-family:Menlo,'DejaVu Sans Mono',consolas,'Courier New',monospace\">\n",
							"</pre>\n"
						],
						"text/plain": [
							"\n"
						]
					},
					"metadata": {},
					"output_type": "display_data"
				},
				{
					"data": {
						"application/vnd.jupyter.widget-view+json": {
							"model_id": "2cd3b0579c6046369928789e15022fe7",
							"version_major": 2,
							"version_minor": 0
						},
						"text/plain": [
							"Output()"
						]
					},
					"metadata": {},
					"output_type": "display_data"
				},
				{
					"name": "stderr",
					"output_type": "stream",
					"text": [
						"/opt/conda/lib/python3.10/site-packages/portalocker/utils.py:216: UserWarning: timeout has no effect in blocking mode\n",
						"  warnings.warn(\n"
					]
				},
				{
					"data": {
						"text/html": [
							"<pre style=\"white-space:pre;overflow-x:auto;line-height:normal;font-family:Menlo,'DejaVu Sans Mono',consolas,'Courier New',monospace\"></pre>\n"
						],
						"text/plain": []
					},
					"metadata": {},
					"output_type": "display_data"
				},
				{
					"data": {
						"text/html": [
							"<pre style=\"white-space:pre;overflow-x:auto;line-height:normal;font-family:Menlo,'DejaVu Sans Mono',consolas,'Courier New',monospace\">\n",
							"</pre>\n"
						],
						"text/plain": [
							"\n"
						]
					},
					"metadata": {},
					"output_type": "display_data"
				},
				{
					"data": {
						"application/vnd.jupyter.widget-view+json": {
							"model_id": "2ebbd4b3bfee4ef7a646754fc89fe8cf",
							"version_major": 2,
							"version_minor": 0
						},
						"text/plain": [
							"Output()"
						]
					},
					"metadata": {},
					"output_type": "display_data"
				},
				{
					"name": "stderr",
					"output_type": "stream",
					"text": [
						"/opt/conda/lib/python3.10/site-packages/portalocker/utils.py:216: UserWarning: timeout has no effect in blocking mode\n",
						"  warnings.warn(\n"
					]
				},
				{
					"data": {
						"text/html": [
							"<pre style=\"white-space:pre;overflow-x:auto;line-height:normal;font-family:Menlo,'DejaVu Sans Mono',consolas,'Courier New',monospace\">Issue with Invoke\n",
							"</pre>\n"
						],
						"text/plain": [
							"Issue with Invoke\n"
						]
					},
					"metadata": {},
					"output_type": "display_data"
				},
				{
					"data": {
						"text/html": [
							"<pre style=\"white-space:pre;overflow-x:auto;line-height:normal;font-family:Menlo,'DejaVu Sans Mono',consolas,'Courier New',monospace\"></pre>\n"
						],
						"text/plain": []
					},
					"metadata": {},
					"output_type": "display_data"
				},
				{
					"data": {
						"text/html": [
							"<pre style=\"white-space:pre;overflow-x:auto;line-height:normal;font-family:Menlo,'DejaVu Sans Mono',consolas,'Courier New',monospace\">\n",
							"</pre>\n"
						],
						"text/plain": [
							"\n"
						]
					},
					"metadata": {},
					"output_type": "display_data"
				},
				{
					"data": {
						"application/vnd.jupyter.widget-view+json": {
							"model_id": "813d39010b0c4233a0ca256429ad14e9",
							"version_major": 2,
							"version_minor": 0
						},
						"text/plain": [
							"Output()"
						]
					},
					"metadata": {},
					"output_type": "display_data"
				},
				{
					"name": "stderr",
					"output_type": "stream",
					"text": [
						"/opt/conda/lib/python3.10/site-packages/portalocker/utils.py:216: UserWarning: timeout has no effect in blocking mode\n",
						"  warnings.warn(\n"
					]
				},
				{
					"data": {
						"text/html": [
							"<pre style=\"white-space:pre;overflow-x:auto;line-height:normal;font-family:Menlo,'DejaVu Sans Mono',consolas,'Courier New',monospace\">Issue with Invoke\n",
							"</pre>\n"
						],
						"text/plain": [
							"Issue with Invoke\n"
						]
					},
					"metadata": {},
					"output_type": "display_data"
				},
				{
					"data": {
						"text/html": [
							"<pre style=\"white-space:pre;overflow-x:auto;line-height:normal;font-family:Menlo,'DejaVu Sans Mono',consolas,'Courier New',monospace\"></pre>\n"
						],
						"text/plain": []
					},
					"metadata": {},
					"output_type": "display_data"
				},
				{
					"data": {
						"text/html": [
							"<pre style=\"white-space:pre;overflow-x:auto;line-height:normal;font-family:Menlo,'DejaVu Sans Mono',consolas,'Courier New',monospace\">\n",
							"</pre>\n"
						],
						"text/plain": [
							"\n"
						]
					},
					"metadata": {},
					"output_type": "display_data"
				},
				{
					"data": {
						"application/vnd.jupyter.widget-view+json": {
							"model_id": "2121c21a52424fe3909d092c83a7b6f5",
							"version_major": 2,
							"version_minor": 0
						},
						"text/plain": [
							"Output()"
						]
					},
					"metadata": {},
					"output_type": "display_data"
				},
				{
					"name": "stderr",
					"output_type": "stream",
					"text": [
						"/opt/conda/lib/python3.10/site-packages/portalocker/utils.py:216: UserWarning: timeout has no effect in blocking mode\n",
						"  warnings.warn(\n"
					]
				},
				{
					"data": {
						"text/html": [
							"<pre style=\"white-space:pre;overflow-x:auto;line-height:normal;font-family:Menlo,'DejaVu Sans Mono',consolas,'Courier New',monospace\">Issue with Invoke\n",
							"</pre>\n"
						],
						"text/plain": [
							"Issue with Invoke\n"
						]
					},
					"metadata": {},
					"output_type": "display_data"
				},
				{
					"data": {
						"text/html": [
							"<pre style=\"white-space:pre;overflow-x:auto;line-height:normal;font-family:Menlo,'DejaVu Sans Mono',consolas,'Courier New',monospace\">Issue with Invoke\n",
							"</pre>\n"
						],
						"text/plain": [
							"Issue with Invoke\n"
						]
					},
					"metadata": {},
					"output_type": "display_data"
				},
				{
					"data": {
						"text/html": [
							"<pre style=\"white-space:pre;overflow-x:auto;line-height:normal;font-family:Menlo,'DejaVu Sans Mono',consolas,'Courier New',monospace\"></pre>\n"
						],
						"text/plain": []
					},
					"metadata": {},
					"output_type": "display_data"
				},
				{
					"data": {
						"text/html": [
							"<pre style=\"white-space:pre;overflow-x:auto;line-height:normal;font-family:Menlo,'DejaVu Sans Mono',consolas,'Courier New',monospace\">\n",
							"</pre>\n"
						],
						"text/plain": [
							"\n"
						]
					},
					"metadata": {},
					"output_type": "display_data"
				},
				{
					"data": {
						"application/vnd.jupyter.widget-view+json": {
							"model_id": "5049da35115f43ceb191a03a719717a5",
							"version_major": 2,
							"version_minor": 0
						},
						"text/plain": [
							"Output()"
						]
					},
					"metadata": {},
					"output_type": "display_data"
				},
				{
					"name": "stderr",
					"output_type": "stream",
					"text": [
						"/opt/conda/lib/python3.10/site-packages/portalocker/utils.py:216: UserWarning: timeout has no effect in blocking mode\n",
						"  warnings.warn(\n"
					]
				},
				{
					"data": {
						"text/html": [
							"<pre style=\"white-space:pre;overflow-x:auto;line-height:normal;font-family:Menlo,'DejaVu Sans Mono',consolas,'Courier New',monospace\">Issue with Invoke\n",
							"</pre>\n"
						],
						"text/plain": [
							"Issue with Invoke\n"
						]
					},
					"metadata": {},
					"output_type": "display_data"
				},
				{
					"data": {
						"text/html": [
							"<pre style=\"white-space:pre;overflow-x:auto;line-height:normal;font-family:Menlo,'DejaVu Sans Mono',consolas,'Courier New',monospace\">Issue with Invoke\n",
							"</pre>\n"
						],
						"text/plain": [
							"Issue with Invoke\n"
						]
					},
					"metadata": {},
					"output_type": "display_data"
				},
				{
					"data": {
						"text/html": [
							"<pre style=\"white-space:pre;overflow-x:auto;line-height:normal;font-family:Menlo,'DejaVu Sans Mono',consolas,'Courier New',monospace\">Issue with Invoke\n",
							"</pre>\n"
						],
						"text/plain": [
							"Issue with Invoke\n"
						]
					},
					"metadata": {},
					"output_type": "display_data"
				},
				{
					"data": {
						"text/html": [
							"<pre style=\"white-space:pre;overflow-x:auto;line-height:normal;font-family:Menlo,'DejaVu Sans Mono',consolas,'Courier New',monospace\">Issue with Invoke\n",
							"</pre>\n"
						],
						"text/plain": [
							"Issue with Invoke\n"
						]
					},
					"metadata": {},
					"output_type": "display_data"
				},
				{
					"data": {
						"text/html": [
							"<pre style=\"white-space:pre;overflow-x:auto;line-height:normal;font-family:Menlo,'DejaVu Sans Mono',consolas,'Courier New',monospace\"></pre>\n"
						],
						"text/plain": []
					},
					"metadata": {},
					"output_type": "display_data"
				},
				{
					"data": {
						"text/html": [
							"<pre style=\"white-space:pre;overflow-x:auto;line-height:normal;font-family:Menlo,'DejaVu Sans Mono',consolas,'Courier New',monospace\">\n",
							"</pre>\n"
						],
						"text/plain": [
							"\n"
						]
					},
					"metadata": {},
					"output_type": "display_data"
				},
				{
					"data": {
						"application/vnd.jupyter.widget-view+json": {
							"model_id": "1fcc9b7f87fe43978051f16761d35e3e",
							"version_major": 2,
							"version_minor": 0
						},
						"text/plain": [
							"Output()"
						]
					},
					"metadata": {},
					"output_type": "display_data"
				},
				{
					"name": "stderr",
					"output_type": "stream",
					"text": [
						"/opt/conda/lib/python3.10/site-packages/portalocker/utils.py:216: UserWarning: timeout has no effect in blocking mode\n",
						"  warnings.warn(\n"
					]
				},
				{
					"data": {
						"text/html": [
							"<pre style=\"white-space:pre;overflow-x:auto;line-height:normal;font-family:Menlo,'DejaVu Sans Mono',consolas,'Courier New',monospace\">Issue with Invoke\n",
							"</pre>\n"
						],
						"text/plain": [
							"Issue with Invoke\n"
						]
					},
					"metadata": {},
					"output_type": "display_data"
				},
				{
					"data": {
						"text/html": [
							"<pre style=\"white-space:pre;overflow-x:auto;line-height:normal;font-family:Menlo,'DejaVu Sans Mono',consolas,'Courier New',monospace\">Issue with Invoke\n",
							"</pre>\n"
						],
						"text/plain": [
							"Issue with Invoke\n"
						]
					},
					"metadata": {},
					"output_type": "display_data"
				},
				{
					"data": {
						"text/html": [
							"<pre style=\"white-space:pre;overflow-x:auto;line-height:normal;font-family:Menlo,'DejaVu Sans Mono',consolas,'Courier New',monospace\">Issue with Invoke\n",
							"</pre>\n"
						],
						"text/plain": [
							"Issue with Invoke\n"
						]
					},
					"metadata": {},
					"output_type": "display_data"
				},
				{
					"data": {
						"text/html": [
							"<pre style=\"white-space:pre;overflow-x:auto;line-height:normal;font-family:Menlo,'DejaVu Sans Mono',consolas,'Courier New',monospace\">Issue with Invoke\n",
							"</pre>\n"
						],
						"text/plain": [
							"Issue with Invoke\n"
						]
					},
					"metadata": {},
					"output_type": "display_data"
				},
				{
					"data": {
						"text/html": [
							"<pre style=\"white-space:pre;overflow-x:auto;line-height:normal;font-family:Menlo,'DejaVu Sans Mono',consolas,'Courier New',monospace\"></pre>\n"
						],
						"text/plain": []
					},
					"metadata": {},
					"output_type": "display_data"
				},
				{
					"data": {
						"text/html": [
							"<pre style=\"white-space:pre;overflow-x:auto;line-height:normal;font-family:Menlo,'DejaVu Sans Mono',consolas,'Courier New',monospace\">\n",
							"</pre>\n"
						],
						"text/plain": [
							"\n"
						]
					},
					"metadata": {},
					"output_type": "display_data"
				},
				{
					"data": {
						"application/vnd.jupyter.widget-view+json": {
							"model_id": "fdc85eb374d84d24b925963af819dfe4",
							"version_major": 2,
							"version_minor": 0
						},
						"text/plain": [
							"Output()"
						]
					},
					"metadata": {},
					"output_type": "display_data"
				},
				{
					"name": "stderr",
					"output_type": "stream",
					"text": [
						"/opt/conda/lib/python3.10/site-packages/portalocker/utils.py:216: UserWarning: timeout has no effect in blocking mode\n",
						"  warnings.warn(\n"
					]
				},
				{
					"data": {
						"text/html": [
							"<pre style=\"white-space:pre;overflow-x:auto;line-height:normal;font-family:Menlo,'DejaVu Sans Mono',consolas,'Courier New',monospace\">Issue with Invoke\n",
							"</pre>\n"
						],
						"text/plain": [
							"Issue with Invoke\n"
						]
					},
					"metadata": {},
					"output_type": "display_data"
				},
				{
					"data": {
						"text/html": [
							"<pre style=\"white-space:pre;overflow-x:auto;line-height:normal;font-family:Menlo,'DejaVu Sans Mono',consolas,'Courier New',monospace\">Issue with Invoke\n",
							"</pre>\n"
						],
						"text/plain": [
							"Issue with Invoke\n"
						]
					},
					"metadata": {},
					"output_type": "display_data"
				},
				{
					"data": {
						"text/html": [
							"<pre style=\"white-space:pre;overflow-x:auto;line-height:normal;font-family:Menlo,'DejaVu Sans Mono',consolas,'Courier New',monospace\">Issue with Invoke\n",
							"</pre>\n"
						],
						"text/plain": [
							"Issue with Invoke\n"
						]
					},
					"metadata": {},
					"output_type": "display_data"
				},
				{
					"data": {
						"text/html": [
							"<pre style=\"white-space:pre;overflow-x:auto;line-height:normal;font-family:Menlo,'DejaVu Sans Mono',consolas,'Courier New',monospace\">Issue with Invoke\n",
							"</pre>\n"
						],
						"text/plain": [
							"Issue with Invoke\n"
						]
					},
					"metadata": {},
					"output_type": "display_data"
				},
				{
					"data": {
						"text/html": [
							"<pre style=\"white-space:pre;overflow-x:auto;line-height:normal;font-family:Menlo,'DejaVu Sans Mono',consolas,'Courier New',monospace\"></pre>\n"
						],
						"text/plain": []
					},
					"metadata": {},
					"output_type": "display_data"
				},
				{
					"data": {
						"text/html": [
							"<pre style=\"white-space:pre;overflow-x:auto;line-height:normal;font-family:Menlo,'DejaVu Sans Mono',consolas,'Courier New',monospace\">\n",
							"</pre>\n"
						],
						"text/plain": [
							"\n"
						]
					},
					"metadata": {},
					"output_type": "display_data"
				},
				{
					"data": {
						"application/vnd.jupyter.widget-view+json": {
							"model_id": "05d9bb389f7f47a8bbebbf6026aa0ba2",
							"version_major": 2,
							"version_minor": 0
						},
						"text/plain": [
							"Output()"
						]
					},
					"metadata": {},
					"output_type": "display_data"
				},
				{
					"name": "stderr",
					"output_type": "stream",
					"text": [
						"/opt/conda/lib/python3.10/site-packages/portalocker/utils.py:216: UserWarning: timeout has no effect in blocking mode\n",
						"  warnings.warn(\n"
					]
				},
				{
					"data": {
						"text/html": [
							"<pre style=\"white-space:pre;overflow-x:auto;line-height:normal;font-family:Menlo,'DejaVu Sans Mono',consolas,'Courier New',monospace\">Issue with Invoke\n",
							"</pre>\n"
						],
						"text/plain": [
							"Issue with Invoke\n"
						]
					},
					"metadata": {},
					"output_type": "display_data"
				},
				{
					"data": {
						"text/html": [
							"<pre style=\"white-space:pre;overflow-x:auto;line-height:normal;font-family:Menlo,'DejaVu Sans Mono',consolas,'Courier New',monospace\">Issue with Invoke\n",
							"</pre>\n"
						],
						"text/plain": [
							"Issue with Invoke\n"
						]
					},
					"metadata": {},
					"output_type": "display_data"
				},
				{
					"data": {
						"text/html": [
							"<pre style=\"white-space:pre;overflow-x:auto;line-height:normal;font-family:Menlo,'DejaVu Sans Mono',consolas,'Courier New',monospace\">Issue with Invoke\n",
							"</pre>\n"
						],
						"text/plain": [
							"Issue with Invoke\n"
						]
					},
					"metadata": {},
					"output_type": "display_data"
				},
				{
					"data": {
						"text/html": [
							"<pre style=\"white-space:pre;overflow-x:auto;line-height:normal;font-family:Menlo,'DejaVu Sans Mono',consolas,'Courier New',monospace\">Issue with Invoke\n",
							"</pre>\n"
						],
						"text/plain": [
							"Issue with Invoke\n"
						]
					},
					"metadata": {},
					"output_type": "display_data"
				},
				{
					"data": {
						"text/html": [
							"<pre style=\"white-space:pre;overflow-x:auto;line-height:normal;font-family:Menlo,'DejaVu Sans Mono',consolas,'Courier New',monospace\">Issue with Invoke\n",
							"</pre>\n"
						],
						"text/plain": [
							"Issue with Invoke\n"
						]
					},
					"metadata": {},
					"output_type": "display_data"
				},
				{
					"data": {
						"text/html": [
							"<pre style=\"white-space:pre;overflow-x:auto;line-height:normal;font-family:Menlo,'DejaVu Sans Mono',consolas,'Courier New',monospace\">Issue with Invoke\n",
							"</pre>\n"
						],
						"text/plain": [
							"Issue with Invoke\n"
						]
					},
					"metadata": {},
					"output_type": "display_data"
				},
				{
					"data": {
						"text/html": [
							"<pre style=\"white-space:pre;overflow-x:auto;line-height:normal;font-family:Menlo,'DejaVu Sans Mono',consolas,'Courier New',monospace\">Issue with Invoke\n",
							"</pre>\n"
						],
						"text/plain": [
							"Issue with Invoke\n"
						]
					},
					"metadata": {},
					"output_type": "display_data"
				},
				{
					"data": {
						"text/html": [
							"<pre style=\"white-space:pre;overflow-x:auto;line-height:normal;font-family:Menlo,'DejaVu Sans Mono',consolas,'Courier New',monospace\"></pre>\n"
						],
						"text/plain": []
					},
					"metadata": {},
					"output_type": "display_data"
				},
				{
					"data": {
						"text/html": [
							"<pre style=\"white-space:pre;overflow-x:auto;line-height:normal;font-family:Menlo,'DejaVu Sans Mono',consolas,'Courier New',monospace\">\n",
							"</pre>\n"
						],
						"text/plain": [
							"\n"
						]
					},
					"metadata": {},
					"output_type": "display_data"
				},
				{
					"data": {
						"application/vnd.jupyter.widget-view+json": {
							"model_id": "662201350df240f2ab229c6383099740",
							"version_major": 2,
							"version_minor": 0
						},
						"text/plain": [
							"Output()"
						]
					},
					"metadata": {},
					"output_type": "display_data"
				},
				{
					"name": "stderr",
					"output_type": "stream",
					"text": [
						"/opt/conda/lib/python3.10/site-packages/portalocker/utils.py:216: UserWarning: timeout has no effect in blocking mode\n",
						"  warnings.warn(\n"
					]
				},
				{
					"data": {
						"text/html": [
							"<pre style=\"white-space:pre;overflow-x:auto;line-height:normal;font-family:Menlo,'DejaVu Sans Mono',consolas,'Courier New',monospace\">Issue with Invoke\n",
							"</pre>\n"
						],
						"text/plain": [
							"Issue with Invoke\n"
						]
					},
					"metadata": {},
					"output_type": "display_data"
				},
				{
					"data": {
						"text/html": [
							"<pre style=\"white-space:pre;overflow-x:auto;line-height:normal;font-family:Menlo,'DejaVu Sans Mono',consolas,'Courier New',monospace\"></pre>\n"
						],
						"text/plain": []
					},
					"metadata": {},
					"output_type": "display_data"
				},
				{
					"data": {
						"text/html": [
							"<pre style=\"white-space:pre;overflow-x:auto;line-height:normal;font-family:Menlo,'DejaVu Sans Mono',consolas,'Courier New',monospace\">\n",
							"</pre>\n"
						],
						"text/plain": [
							"\n"
						]
					},
					"metadata": {},
					"output_type": "display_data"
				},
				{
					"name": "stderr",
					"output_type": "stream",
					"text": [
						"/opt/conda/lib/python3.10/site-packages/portalocker/utils.py:216: UserWarning: timeout has no effect in blocking mode\n",
						"  warnings.warn(\n"
					]
				},
				{
					"data": {
						"text/html": [
							"<pre style=\"white-space:pre;overflow-x:auto;line-height:normal;font-family:Menlo,'DejaVu Sans Mono',consolas,'Courier New',monospace\">✅ Tests finished! Run <span style=\"color: #008000; text-decoration-color: #008000\">\"deepeval login\"</span> to view evaluation results on the web.\n",
							"</pre>\n"
						],
						"text/plain": [
							"✅ Tests finished! Run \u001b[32m\"deepeval login\"\u001b[0m to view evaluation results on the web.\n"
						]
					},
					"metadata": {},
					"output_type": "display_data"
				}
			],
			"source": [
				"faithfulness_metric = FaithfulnessMetric(model=aws_bedrock)\n",
				"bias_metric = BiasMetric(model=aws_bedrock)\n",
				"toxicity_metric = ToxicityMetric(model=aws_bedrock)\n",
				"answer_relevancy_metric = AnswerRelevancyMetric(model=aws_bedrock)\n",
				"\n",
				"metrics = [\n",
				"        answer_relevancy_metric,\n",
				"        faithfulness_metric, \n",
				"        bias_metric, \n",
				"        toxicity_metric,\n",
				"    ]\n",
				"deep_eval_results = get_deep_eval(input_dataset['question'], input_dataset['llm_answer'], \n",
				"                                  input_dataset['llm_contexts'], input_dataset['ground_truths'],\n",
				"                                  metrics)"
			]
		},
		{
			"cell_type": "markdown",
			"id": "7ba16ffb-53c9-47bd-8f64-28b506c4be2e",
			"metadata": {},
			"source": [
				"print out metrics used in the evaluation results"
			]
		},
		{
			"cell_type": "code",
			"execution_count": 12,
			"id": "8ff49787",
			"metadata": {
				"tags": []
			},
			"outputs": [
				{
					"data": {
						"text/plain": [
							"[<deepeval.metrics.answer_relevancy.answer_relevancy.AnswerRelevancyMetric at 0x7f7e75f1e050>,\n",
							" <deepeval.metrics.faithfulness.faithfulness.FaithfulnessMetric at 0x7f7e75f1e260>,\n",
							" <deepeval.metrics.bias.bias.BiasMetric at 0x7f7e75f1f580>,\n",
							" <deepeval.metrics.toxicity.toxicity.ToxicityMetric at 0x7f7e75f1dbd0>]"
						]
					},
					"execution_count": 12,
					"metadata": {},
					"output_type": "execute_result"
				}
			],
			"source": [
				"deep_eval_results[0].metrics"
			]
		},
		{
			"cell_type": "markdown",
			"id": "b64874af-aa5a-4c28-ab11-5d59e92e6816",
			"metadata": {},
			"source": [
				"### Calulate evaluation scores of each metric and append the scores to the input dataset"
			]
		},
		{
			"cell_type": "code",
			"execution_count": 13,
			"id": "b3e87605",
			"metadata": {
				"tags": []
			},
			"outputs": [],
			"source": [
				"answer_relevance_scores = []\n",
				"faithfulness_scores = []\n",
				"bias_scores = []\n",
				"toxicity_scores = []\n",
				"for r in deep_eval_results: \n",
				"    answer_relevance_scores += [r.metrics[0].score]\n",
				"    faithfulness_scores += [r.metrics[1].score]\n",
				"    bias_scores += [r.metrics[2].score]\n",
				"    toxicity_scores += [r.metrics[3].score]\n",
				"input_dataset['answer_relevance'] = answer_relevance_scores\n",
				"input_dataset['faithfulness'] = faithfulness_scores\n",
				"input_dataset['bias'] = bias_scores\n",
				"input_dataset['toxicity'] = toxicity_scores"
			]
		},
		{
			"cell_type": "markdown",
			"id": "cd0e9d92-6685-4da9-ba91-e8f468dd9ac6",
			"metadata": {},
			"source": [
				"#### Diplaying the input dataset along with its evaluation scores"
			]
		},
		{
			"cell_type": "code",
			"execution_count": 14,
			"id": "9e5bd6d8",
			"metadata": {
				"tags": []
			},
			"outputs": [
				{
					"data": {
						"text/html": [
							"<div>\n",
							"<style scoped>\n",
							"    .dataframe tbody tr th:only-of-type {\n",
							"        vertical-align: middle;\n",
							"    }\n",
							"\n",
							"    .dataframe tbody tr th {\n",
							"        vertical-align: top;\n",
							"    }\n",
							"\n",
							"    .dataframe thead th {\n",
							"        text-align: right;\n",
							"    }\n",
							"</style>\n",
							"<table border=\"1\" class=\"dataframe\">\n",
							"  <thead>\n",
							"    <tr style=\"text-align: right;\">\n",
							"      <th></th>\n",
							"      <th>doc_name</th>\n",
							"      <th>doc_link</th>\n",
							"      <th>doc_period</th>\n",
							"      <th>question_type</th>\n",
							"      <th>question</th>\n",
							"      <th>ground_truths</th>\n",
							"      <th>evidence_text</th>\n",
							"      <th>page_number</th>\n",
							"      <th>llm_answer</th>\n",
							"      <th>llm_contexts</th>\n",
							"      <th>latency_meta_time</th>\n",
							"      <th>latency_meta_kwd</th>\n",
							"      <th>latency_meta_comb</th>\n",
							"      <th>latency_meta_ans_gen</th>\n",
							"      <th>input_tokens</th>\n",
							"      <th>output_tokens</th>\n",
							"      <th>answer_relevance</th>\n",
							"      <th>faithfulness</th>\n",
							"      <th>bias</th>\n",
							"      <th>toxicity</th>\n",
							"    </tr>\n",
							"    <tr>\n",
							"      <th>financebench_id</th>\n",
							"      <th></th>\n",
							"      <th></th>\n",
							"      <th></th>\n",
							"      <th></th>\n",
							"      <th></th>\n",
							"      <th></th>\n",
							"      <th></th>\n",
							"      <th></th>\n",
							"      <th></th>\n",
							"      <th></th>\n",
							"      <th></th>\n",
							"      <th></th>\n",
							"      <th></th>\n",
							"      <th></th>\n",
							"      <th></th>\n",
							"      <th></th>\n",
							"      <th></th>\n",
							"      <th></th>\n",
							"      <th></th>\n",
							"      <th></th>\n",
							"    </tr>\n",
							"  </thead>\n",
							"  <tbody>\n",
							"    <tr>\n",
							"      <th>financebench_id_03029</th>\n",
							"      <td>3M_2018_10K</td>\n",
							"      <td>https://investors.3m.com/financials/sec-filing...</td>\n",
							"      <td>2018</td>\n",
							"      <td>metrics-generated</td>\n",
							"      <td>What is the FY2018 capital expenditure amount ...</td>\n",
							"      <td>['$1577.00']</td>\n",
							"      <td>Table of Contents \\n3M Company and Subsidiarie...</td>\n",
							"      <td>60</td>\n",
							"      <td>According to the cash flow statement in the 3M...</td>\n",
							"      <td>['&lt;&lt;Paragraph&gt;&gt; [Source File: 3M_2018_10K] \\n ...</td>\n",
							"      <td>0.927055</td>\n",
							"      <td>0.606658</td>\n",
							"      <td>1.448762</td>\n",
							"      <td>2.483714</td>\n",
							"      <td>21147</td>\n",
							"      <td>401</td>\n",
							"      <td>0.750000</td>\n",
							"      <td>1.0</td>\n",
							"      <td>0.0</td>\n",
							"      <td>0.0</td>\n",
							"    </tr>\n",
							"    <tr>\n",
							"      <th>financebench_id_00499</th>\n",
							"      <td>3M_2022_10K</td>\n",
							"      <td>https://investors.3m.com/financials/sec-filing...</td>\n",
							"      <td>2022</td>\n",
							"      <td>domain-relevant</td>\n",
							"      <td>Is 3M a capital-intensive business based on FY...</td>\n",
							"      <td>['No, the company is managing its CAPEX and Fi...</td>\n",
							"      <td>3M Company and Subsidiaries\\n Consolidated Sta...</td>\n",
							"      <td>48,50,52</td>\n",
							"      <td>Based on the financial information provided in...</td>\n",
							"      <td>['&lt;&lt;Paragraph&gt;&gt; [Source File: 3M_2022_10K] \\n ...</td>\n",
							"      <td>0.714294</td>\n",
							"      <td>0.503733</td>\n",
							"      <td>1.938756</td>\n",
							"      <td>5.232772</td>\n",
							"      <td>23180</td>\n",
							"      <td>635</td>\n",
							"      <td>1.000000</td>\n",
							"      <td>1.0</td>\n",
							"      <td>0.0</td>\n",
							"      <td>0.0</td>\n",
							"    </tr>\n",
							"    <tr>\n",
							"      <th>financebench_id_00438</th>\n",
							"      <td>ADOBE_2022_10K</td>\n",
							"      <td>https://www.adobe.com/pdf-page.html?pdfTarget=...</td>\n",
							"      <td>2022</td>\n",
							"      <td>domain-relevant</td>\n",
							"      <td>Does Adobe have an improving operating margin ...</td>\n",
							"      <td>['No the operating margins of Adobe have recen...</td>\n",
							"      <td>ADOBE INC.\\nCONSOLIDATED STATEMENTS OF INCOME\\...</td>\n",
							"      <td>54</td>\n",
							"      <td>Based on the financial information provided in...</td>\n",
							"      <td>['&lt;&lt;Paragraph&gt;&gt; [Source File: ADOBE_2022_10K] ...</td>\n",
							"      <td>0.774023</td>\n",
							"      <td>3.742355</td>\n",
							"      <td>1.554743</td>\n",
							"      <td>4.361795</td>\n",
							"      <td>13324</td>\n",
							"      <td>1038</td>\n",
							"      <td>0.666667</td>\n",
							"      <td>1.0</td>\n",
							"      <td>0.0</td>\n",
							"      <td>0.0</td>\n",
							"    </tr>\n",
							"    <tr>\n",
							"      <th>financebench_id_00591</th>\n",
							"      <td>ADOBE_2022_10K</td>\n",
							"      <td>https://www.adobe.com/pdf-page.html?pdfTarget=...</td>\n",
							"      <td>2022</td>\n",
							"      <td>novel-generated</td>\n",
							"      <td>Does Adobe have an improving Free cashflow con...</td>\n",
							"      <td>['Yes, the FCF conversion (using net income as...</td>\n",
							"      <td>ADOBE INC.\\n CONSOLIDATED STATEMENTS OF CASH F...</td>\n",
							"      <td>57</td>\n",
							"      <td>Based on the financial information provided in...</td>\n",
							"      <td>['&lt;&lt;Paragraph&gt;&gt; [Source File: ADOBE_2022_10K] ...</td>\n",
							"      <td>0.891798</td>\n",
							"      <td>0.576164</td>\n",
							"      <td>1.379593</td>\n",
							"      <td>3.781731</td>\n",
							"      <td>12957</td>\n",
							"      <td>526</td>\n",
							"      <td>0.800000</td>\n",
							"      <td>1.0</td>\n",
							"      <td>0.0</td>\n",
							"      <td>0.0</td>\n",
							"    </tr>\n",
							"    <tr>\n",
							"      <th>financebench_id_03069</th>\n",
							"      <td>AMD_2015_10K</td>\n",
							"      <td>https://ir.amd.com/sec-filings/filter/annual-f...</td>\n",
							"      <td>2015</td>\n",
							"      <td>metrics-generated</td>\n",
							"      <td>Answer the following question as if you are an...</td>\n",
							"      <td>['4.2%']</td>\n",
							"      <td>ITEM 8.\\nFINANCIAL STATEMENTS AND SUPPLEMENTAR...</td>\n",
							"      <td>56,60</td>\n",
							"      <td>According to the details in the Profit and Los...</td>\n",
							"      <td>['&lt;&lt;Paragraph&gt;&gt; [Source File: AMD_2015_10K] \\n...</td>\n",
							"      <td>0.821045</td>\n",
							"      <td>0.420084</td>\n",
							"      <td>1.686061</td>\n",
							"      <td>2.925910</td>\n",
							"      <td>24266</td>\n",
							"      <td>494</td>\n",
							"      <td>0.800000</td>\n",
							"      <td>1.0</td>\n",
							"      <td>0.0</td>\n",
							"      <td>0.0</td>\n",
							"    </tr>\n",
							"    <tr>\n",
							"      <th>financebench_id_00563</th>\n",
							"      <td>AMD_2022_10K</td>\n",
							"      <td>https://ir.amd.com/sec-filings/content/0000002...</td>\n",
							"      <td>2022</td>\n",
							"      <td>novel-generated</td>\n",
							"      <td>From FY21 to FY22, excluding Embedded, in whic...</td>\n",
							"      <td>['Data Center']</td>\n",
							"      <td>Year Ended\\nDecember 31,\\n2022\\nDecember 25,\\n...</td>\n",
							"      <td>48</td>\n",
							"      <td>Based on the financial information provided, e...</td>\n",
							"      <td>['&lt;&lt;Paragraph&gt;&gt; [Source File: AMD_2022_10K] \\n...</td>\n",
							"      <td>0.994070</td>\n",
							"      <td>0.424838</td>\n",
							"      <td>2.337973</td>\n",
							"      <td>3.484417</td>\n",
							"      <td>15279</td>\n",
							"      <td>565</td>\n",
							"      <td>0.833333</td>\n",
							"      <td>1.0</td>\n",
							"      <td>0.0</td>\n",
							"      <td>0.0</td>\n",
							"    </tr>\n",
							"    <tr>\n",
							"      <th>financebench_id_01351</th>\n",
							"      <td>AMERICANEXPRESS_2022_10K</td>\n",
							"      <td>https://s26.q4cdn.com/747928648/files/doc_fina...</td>\n",
							"      <td>2022</td>\n",
							"      <td>domain-relevant</td>\n",
							"      <td>How much has the effective tax rate of America...</td>\n",
							"      <td>['The effective tax rate for American Express ...</td>\n",
							"      <td>TABLE 1: SUMMARY OF FINANCIAL PERFORMANCE\\nYea...</td>\n",
							"      <td>44</td>\n",
							"      <td>The effective tax rate of American Express dec...</td>\n",
							"      <td>['&lt;&lt;Paragraph&gt;&gt; [Source File: AMERICANEXPRESS_...</td>\n",
							"      <td>0.991014</td>\n",
							"      <td>0.405639</td>\n",
							"      <td>6.266499</td>\n",
							"      <td>2.848354</td>\n",
							"      <td>18580</td>\n",
							"      <td>777</td>\n",
							"      <td>0.800000</td>\n",
							"      <td>1.0</td>\n",
							"      <td>0.0</td>\n",
							"      <td>0.0</td>\n",
							"    </tr>\n",
							"    <tr>\n",
							"      <th>financebench_id_01964</th>\n",
							"      <td>AMERICANEXPRESS_2022_10K</td>\n",
							"      <td>https://s26.q4cdn.com/747928648/files/doc_fina...</td>\n",
							"      <td>2022</td>\n",
							"      <td>novel-generated</td>\n",
							"      <td>What was the largest liability in American Exp...</td>\n",
							"      <td>['Customer deposits']</td>\n",
							"      <td>CONSOLIDATED BALANCE SHEETS\\nDecember 31 (Mill...</td>\n",
							"      <td>98</td>\n",
							"      <td>According to the financial statements, the lar...</td>\n",
							"      <td>['&lt;&lt;Paragraph&gt;&gt; [Source File: AMERICANEXPRESS_...</td>\n",
							"      <td>0.725279</td>\n",
							"      <td>0.290234</td>\n",
							"      <td>1.082905</td>\n",
							"      <td>2.099063</td>\n",
							"      <td>19017</td>\n",
							"      <td>314</td>\n",
							"      <td>0.800000</td>\n",
							"      <td>1.0</td>\n",
							"      <td>0.0</td>\n",
							"      <td>0.0</td>\n",
							"    </tr>\n",
							"    <tr>\n",
							"      <th>financebench_id_04417</th>\n",
							"      <td>BESTBUY_2019_10K</td>\n",
							"      <td>https://d18rn0p25nwr6d.cloudfront.net/CIK-0000...</td>\n",
							"      <td>2019</td>\n",
							"      <td>metrics-generated</td>\n",
							"      <td>What is the year end FY2019 total amount of in...</td>\n",
							"      <td>['$5409.00']</td>\n",
							"      <td>Table of Contents\\nConsolidated Balance Sheets...</td>\n",
							"      <td>52</td>\n",
							"      <td>According to the Consolidated Balance Sheets i...</td>\n",
							"      <td>['&lt;&lt;Paragraph&gt;&gt; [Source File: BESTBUY_2019_10K...</td>\n",
							"      <td>0.765973</td>\n",
							"      <td>0.432350</td>\n",
							"      <td>1.355954</td>\n",
							"      <td>2.428678</td>\n",
							"      <td>17732</td>\n",
							"      <td>407</td>\n",
							"      <td>1.000000</td>\n",
							"      <td>1.0</td>\n",
							"      <td>0.0</td>\n",
							"      <td>0.0</td>\n",
							"    </tr>\n",
							"    <tr>\n",
							"      <th>financebench_id_00685</th>\n",
							"      <td>BESTBUY_2023_10K</td>\n",
							"      <td>https://d18rn0p25nwr6d.cloudfront.net/CIK-0000...</td>\n",
							"      <td>2023</td>\n",
							"      <td>domain-relevant</td>\n",
							"      <td>Are Best Buy's gross margins historically cons...</td>\n",
							"      <td>['Yes, the margins have been consistent, there...</td>\n",
							"      <td>Consolidated Statements of Earnings\\n$ and sha...</td>\n",
							"      <td>40</td>\n",
							"      <td>Based on the financial information provided in...</td>\n",
							"      <td>['&lt;&lt;Paragraph&gt;&gt; [Source File: BESTBUY_2023_10K...</td>\n",
							"      <td>1.247835</td>\n",
							"      <td>3.447056</td>\n",
							"      <td>2.005445</td>\n",
							"      <td>5.153986</td>\n",
							"      <td>21451</td>\n",
							"      <td>979</td>\n",
							"      <td>0.750000</td>\n",
							"      <td>1.0</td>\n",
							"      <td>0.0</td>\n",
							"      <td>0.0</td>\n",
							"    </tr>\n",
							"  </tbody>\n",
							"</table>\n",
							"</div>"
						],
						"text/plain": [
							"                                       doc_name  \\\n",
							"financebench_id                                   \n",
							"financebench_id_03029               3M_2018_10K   \n",
							"financebench_id_00499               3M_2022_10K   \n",
							"financebench_id_00438            ADOBE_2022_10K   \n",
							"financebench_id_00591            ADOBE_2022_10K   \n",
							"financebench_id_03069              AMD_2015_10K   \n",
							"financebench_id_00563              AMD_2022_10K   \n",
							"financebench_id_01351  AMERICANEXPRESS_2022_10K   \n",
							"financebench_id_01964  AMERICANEXPRESS_2022_10K   \n",
							"financebench_id_04417          BESTBUY_2019_10K   \n",
							"financebench_id_00685          BESTBUY_2023_10K   \n",
							"\n",
							"                                                                doc_link  \\\n",
							"financebench_id                                                            \n",
							"financebench_id_03029  https://investors.3m.com/financials/sec-filing...   \n",
							"financebench_id_00499  https://investors.3m.com/financials/sec-filing...   \n",
							"financebench_id_00438  https://www.adobe.com/pdf-page.html?pdfTarget=...   \n",
							"financebench_id_00591  https://www.adobe.com/pdf-page.html?pdfTarget=...   \n",
							"financebench_id_03069  https://ir.amd.com/sec-filings/filter/annual-f...   \n",
							"financebench_id_00563  https://ir.amd.com/sec-filings/content/0000002...   \n",
							"financebench_id_01351  https://s26.q4cdn.com/747928648/files/doc_fina...   \n",
							"financebench_id_01964  https://s26.q4cdn.com/747928648/files/doc_fina...   \n",
							"financebench_id_04417  https://d18rn0p25nwr6d.cloudfront.net/CIK-0000...   \n",
							"financebench_id_00685  https://d18rn0p25nwr6d.cloudfront.net/CIK-0000...   \n",
							"\n",
							"                       doc_period      question_type  \\\n",
							"financebench_id                                        \n",
							"financebench_id_03029        2018  metrics-generated   \n",
							"financebench_id_00499        2022    domain-relevant   \n",
							"financebench_id_00438        2022    domain-relevant   \n",
							"financebench_id_00591        2022    novel-generated   \n",
							"financebench_id_03069        2015  metrics-generated   \n",
							"financebench_id_00563        2022    novel-generated   \n",
							"financebench_id_01351        2022    domain-relevant   \n",
							"financebench_id_01964        2022    novel-generated   \n",
							"financebench_id_04417        2019  metrics-generated   \n",
							"financebench_id_00685        2023    domain-relevant   \n",
							"\n",
							"                                                                question  \\\n",
							"financebench_id                                                            \n",
							"financebench_id_03029  What is the FY2018 capital expenditure amount ...   \n",
							"financebench_id_00499  Is 3M a capital-intensive business based on FY...   \n",
							"financebench_id_00438  Does Adobe have an improving operating margin ...   \n",
							"financebench_id_00591  Does Adobe have an improving Free cashflow con...   \n",
							"financebench_id_03069  Answer the following question as if you are an...   \n",
							"financebench_id_00563  From FY21 to FY22, excluding Embedded, in whic...   \n",
							"financebench_id_01351  How much has the effective tax rate of America...   \n",
							"financebench_id_01964  What was the largest liability in American Exp...   \n",
							"financebench_id_04417  What is the year end FY2019 total amount of in...   \n",
							"financebench_id_00685  Are Best Buy's gross margins historically cons...   \n",
							"\n",
							"                                                           ground_truths  \\\n",
							"financebench_id                                                            \n",
							"financebench_id_03029                                       ['$1577.00']   \n",
							"financebench_id_00499  ['No, the company is managing its CAPEX and Fi...   \n",
							"financebench_id_00438  ['No the operating margins of Adobe have recen...   \n",
							"financebench_id_00591  ['Yes, the FCF conversion (using net income as...   \n",
							"financebench_id_03069                                           ['4.2%']   \n",
							"financebench_id_00563                                    ['Data Center']   \n",
							"financebench_id_01351  ['The effective tax rate for American Express ...   \n",
							"financebench_id_01964                              ['Customer deposits']   \n",
							"financebench_id_04417                                       ['$5409.00']   \n",
							"financebench_id_00685  ['Yes, the margins have been consistent, there...   \n",
							"\n",
							"                                                           evidence_text  \\\n",
							"financebench_id                                                            \n",
							"financebench_id_03029  Table of Contents \\n3M Company and Subsidiarie...   \n",
							"financebench_id_00499  3M Company and Subsidiaries\\n Consolidated Sta...   \n",
							"financebench_id_00438  ADOBE INC.\\nCONSOLIDATED STATEMENTS OF INCOME\\...   \n",
							"financebench_id_00591  ADOBE INC.\\n CONSOLIDATED STATEMENTS OF CASH F...   \n",
							"financebench_id_03069  ITEM 8.\\nFINANCIAL STATEMENTS AND SUPPLEMENTAR...   \n",
							"financebench_id_00563  Year Ended\\nDecember 31,\\n2022\\nDecember 25,\\n...   \n",
							"financebench_id_01351  TABLE 1: SUMMARY OF FINANCIAL PERFORMANCE\\nYea...   \n",
							"financebench_id_01964  CONSOLIDATED BALANCE SHEETS\\nDecember 31 (Mill...   \n",
							"financebench_id_04417  Table of Contents\\nConsolidated Balance Sheets...   \n",
							"financebench_id_00685  Consolidated Statements of Earnings\\n$ and sha...   \n",
							"\n",
							"                      page_number  \\\n",
							"financebench_id                     \n",
							"financebench_id_03029          60   \n",
							"financebench_id_00499    48,50,52   \n",
							"financebench_id_00438          54   \n",
							"financebench_id_00591          57   \n",
							"financebench_id_03069       56,60   \n",
							"financebench_id_00563          48   \n",
							"financebench_id_01351          44   \n",
							"financebench_id_01964          98   \n",
							"financebench_id_04417          52   \n",
							"financebench_id_00685          40   \n",
							"\n",
							"                                                              llm_answer  \\\n",
							"financebench_id                                                            \n",
							"financebench_id_03029  According to the cash flow statement in the 3M...   \n",
							"financebench_id_00499  Based on the financial information provided in...   \n",
							"financebench_id_00438  Based on the financial information provided in...   \n",
							"financebench_id_00591  Based on the financial information provided in...   \n",
							"financebench_id_03069  According to the details in the Profit and Los...   \n",
							"financebench_id_00563  Based on the financial information provided, e...   \n",
							"financebench_id_01351  The effective tax rate of American Express dec...   \n",
							"financebench_id_01964  According to the financial statements, the lar...   \n",
							"financebench_id_04417  According to the Consolidated Balance Sheets i...   \n",
							"financebench_id_00685  Based on the financial information provided in...   \n",
							"\n",
							"                                                            llm_contexts  \\\n",
							"financebench_id                                                            \n",
							"financebench_id_03029  ['<<Paragraph>> [Source File: 3M_2018_10K] \\n ...   \n",
							"financebench_id_00499  ['<<Paragraph>> [Source File: 3M_2022_10K] \\n ...   \n",
							"financebench_id_00438  ['<<Paragraph>> [Source File: ADOBE_2022_10K] ...   \n",
							"financebench_id_00591  ['<<Paragraph>> [Source File: ADOBE_2022_10K] ...   \n",
							"financebench_id_03069  ['<<Paragraph>> [Source File: AMD_2015_10K] \\n...   \n",
							"financebench_id_00563  ['<<Paragraph>> [Source File: AMD_2022_10K] \\n...   \n",
							"financebench_id_01351  ['<<Paragraph>> [Source File: AMERICANEXPRESS_...   \n",
							"financebench_id_01964  ['<<Paragraph>> [Source File: AMERICANEXPRESS_...   \n",
							"financebench_id_04417  ['<<Paragraph>> [Source File: BESTBUY_2019_10K...   \n",
							"financebench_id_00685  ['<<Paragraph>> [Source File: BESTBUY_2023_10K...   \n",
							"\n",
							"                       latency_meta_time  latency_meta_kwd  latency_meta_comb  \\\n",
							"financebench_id                                                                 \n",
							"financebench_id_03029           0.927055          0.606658           1.448762   \n",
							"financebench_id_00499           0.714294          0.503733           1.938756   \n",
							"financebench_id_00438           0.774023          3.742355           1.554743   \n",
							"financebench_id_00591           0.891798          0.576164           1.379593   \n",
							"financebench_id_03069           0.821045          0.420084           1.686061   \n",
							"financebench_id_00563           0.994070          0.424838           2.337973   \n",
							"financebench_id_01351           0.991014          0.405639           6.266499   \n",
							"financebench_id_01964           0.725279          0.290234           1.082905   \n",
							"financebench_id_04417           0.765973          0.432350           1.355954   \n",
							"financebench_id_00685           1.247835          3.447056           2.005445   \n",
							"\n",
							"                       latency_meta_ans_gen  input_tokens  output_tokens  \\\n",
							"financebench_id                                                            \n",
							"financebench_id_03029              2.483714         21147            401   \n",
							"financebench_id_00499              5.232772         23180            635   \n",
							"financebench_id_00438              4.361795         13324           1038   \n",
							"financebench_id_00591              3.781731         12957            526   \n",
							"financebench_id_03069              2.925910         24266            494   \n",
							"financebench_id_00563              3.484417         15279            565   \n",
							"financebench_id_01351              2.848354         18580            777   \n",
							"financebench_id_01964              2.099063         19017            314   \n",
							"financebench_id_04417              2.428678         17732            407   \n",
							"financebench_id_00685              5.153986         21451            979   \n",
							"\n",
							"                       answer_relevance  faithfulness  bias  toxicity  \n",
							"financebench_id                                                        \n",
							"financebench_id_03029          0.750000           1.0   0.0       0.0  \n",
							"financebench_id_00499          1.000000           1.0   0.0       0.0  \n",
							"financebench_id_00438          0.666667           1.0   0.0       0.0  \n",
							"financebench_id_00591          0.800000           1.0   0.0       0.0  \n",
							"financebench_id_03069          0.800000           1.0   0.0       0.0  \n",
							"financebench_id_00563          0.833333           1.0   0.0       0.0  \n",
							"financebench_id_01351          0.800000           1.0   0.0       0.0  \n",
							"financebench_id_01964          0.800000           1.0   0.0       0.0  \n",
							"financebench_id_04417          1.000000           1.0   0.0       0.0  \n",
							"financebench_id_00685          0.750000           1.0   0.0       0.0  "
						]
					},
					"execution_count": 14,
					"metadata": {},
					"output_type": "execute_result"
				}
			],
			"source": [
				"input_dataset"
			]
		},
		{
			"cell_type": "markdown",
			"id": "1cd19ae2-a73b-4256-9c13-e978adcca99e",
			"metadata": {},
			"source": [
				"#### Save the full report to the ragas evaluation in .csv format under '../../outputs/rag/evaluation_reports/deepeval/' "
			]
		},
		{
			"cell_type": "code",
			"execution_count": 15,
			"id": "eb939f28-62dc-48b0-ae4a-42b6ee279e1f",
			"metadata": {
				"tags": []
			},
			"outputs": [
				{
					"name": "stdout",
					"output_type": "stream",
					"text": [
						"../outputs/evaluation_reports/deepeval/deepeval_claude.csv\n"
					]
				}
			],
			"source": [
				"eval_csv_dir = (\n",
				"    f\"../outputs/evaluation_reports/deepeval/deepeval_\" + model_output + \".csv\"\n",
				")  # change filename to the one that needs to be evaluated\n",
				"print(eval_csv_dir)"
			]
		},
		{
			"cell_type": "code",
			"execution_count": 16,
			"id": "3ddd161b-615f-42ba-b509-c4c3c72094a4",
			"metadata": {
				"tags": []
			},
			"outputs": [
				{
					"name": "stdout",
					"output_type": "stream",
					"text": [
						"Save evaluation results to: ../outputs/evaluation_reports/deepeval/deepeval_claude.csv'\n"
					]
				}
			],
			"source": [
				"eval_result_csv_file = input_dataset.to_csv(f\"{eval_csv_dir}\", index=False)\n",
				"print(f\"Save evaluation results to: {eval_csv_dir}'\")"
			]
		},
		{
			"cell_type": "markdown",
			"id": "559c3e67",
			"metadata": {},
			"source": [
				"#### Get Mean and Median Scores for Metrics"
			]
		},
		{
			"cell_type": "code",
			"execution_count": 17,
			"id": "0ab4fcca",
			"metadata": {
				"tags": []
			},
			"outputs": [],
			"source": [
				"def get_scores(results, metric): \n",
				"    print(f\"Qna generation results for {metric}\")\n",
				"    print(\"Mean\")\n",
				"    print(results[metric].mean())\n",
				"    print(\"Median\")\n",
				"    print(results[metric].median())\n",
				"    print()"
			]
		},
		{
			"cell_type": "code",
			"execution_count": 18,
			"id": "a15b820f",
			"metadata": {
				"tags": []
			},
			"outputs": [
				{
					"name": "stdout",
					"output_type": "stream",
					"text": [
						"Qna generation results for faithfulness\n",
						"Mean\n",
						"1.0\n",
						"Median\n",
						"1.0\n",
						"\n",
						"Qna generation results for answer_relevance\n",
						"Mean\n",
						"0.82\n",
						"Median\n",
						"0.8\n",
						"\n",
						"Qna generation results for bias\n",
						"Mean\n",
						"0.0\n",
						"Median\n",
						"0.0\n",
						"\n",
						"Qna generation results for toxicity\n",
						"Mean\n",
						"0.0\n",
						"Median\n",
						"0.0\n",
						"\n"
					]
				}
			],
			"source": [
				"deep_eval_metric_names = ['faithfulness', 'answer_relevance', 'bias', 'toxicity']\n",
				"for m in deep_eval_metric_names:\n",
				"    get_scores(input_dataset, m)"
			]
		},
		{
			"cell_type": "code",
			"execution_count": null,
			"id": "8bfaafcb-fa8f-43d2-9037-61b8d3afd36c",
			"metadata": {},
			"outputs": [],
			"source": []
		}
	],
	"metadata": {
		"kernelspec": {
			"display_name": "Python 3 (ipykernel)",
			"language": "python",
			"name": "python3"
		},
		"language_info": {
			"codemirror_mode": {
				"name": "ipython",
				"version": 3
			},
			"file_extension": ".py",
			"mimetype": "text/x-python",
			"name": "python",
			"nbconvert_exporter": "python",
			"pygments_lexer": "ipython3",
			"version": "3.10.14"
		}
	},
	"nbformat": 4,
	"nbformat_minor": 5
}
